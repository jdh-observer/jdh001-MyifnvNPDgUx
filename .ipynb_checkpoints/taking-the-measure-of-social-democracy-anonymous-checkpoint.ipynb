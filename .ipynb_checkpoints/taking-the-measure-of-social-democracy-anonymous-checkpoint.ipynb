{
 "cells": [
  {
   "cell_type": "markdown",
   "metadata": {
    "tags": [
     "title"
    ]
   },
   "source": [
    "# Taking the Measure of Social Democracy: Exploring the Ideology of the Socialist International through Topic Modeling"
   ]
  },
  {
   "cell_type": "markdown",
   "metadata": {
    "tags": [
     "keywords"
    ]
   },
   "source": [
    "Socialist International, Topic Modeling, History of Ideas, Cold War, Digital History"
   ]
  },
  {
   "cell_type": "markdown",
   "metadata": {
    "tags": [
     "abstract"
    ]
   },
   "source": [
    "The role of European social democracy in the origins of the Cold War is a key question for its history and has a rich literature. However, combining digital history with transnational approach can still produce new insights. The rarely explored Socialist International offers the best opportunity to experiment with new tools. \n",
    "This article explores the political culture of European social democracy at the beginning of the Cold War by analysing the debates inside the Socialist International to define a socialist identity. The organisation, to which most European socialists belonged, allowed them to coordinate their activities and reach an agreement on ideas and strategy through debate. For this purpose, the Socialist International published a journal in the late 1940s and a book in the early 1950s, to which most parties contributed articles or chapters. These collections are representative of the political culture of European social democracy at the time, so they provide a great opportunity to analyse transnational debates. In the era of mass parties, examining the ideology of few great thinkers or top leaders is not enough; political culture is better expressed by myriads of speeches and articles produced by low-ranking party officials and journalists. A comprehensive analysis is beyond traditional textual analysis, but digital history is particularly suited for this purpose, as quantitative text analysis can reveal hidden similarities and underlying tensions within social democratic culture. \n",
    "This article relies on new data specifically digitised for this article: the texts produced by the Socialist International for the large public from the late 1940s to the mid-1950s. While it is a small corpus, it is comprehensive and representative of most social democratic parties across Europe. The possibility of combining close and distant reading allows to test which instruments of corpus linguistics are best suited to study political culture of mass movements. This article employs topic modeling to reveal not just what were the main interests and concerns of social democrats at the time, but also differences among parties and the existence of subgroups within the socialist family. The results will allow to enrich the narrative of how European social democracy acted at the beginning of the Cold War, from the descent of the Iron Curtain, to the intense bipolar tension to the first steps in decolonisation and European integration."
   ]
  },
  {
   "cell_type": "markdown",
   "metadata": {
    "tags": []
   },
   "source": [
    "## Introduction"
   ]
  },
  {
   "cell_type": "markdown",
   "metadata": {
    "tags": [
     "narrative"
    ]
   },
   "source": [
    "The aim of this article is to investigate the political culture of European socialists at the beginning of the Cold War through the new tools of digital history. The late 1940s and early 1950s were a seminal period for European social democracy, as it came to adopt the identity that would define it for the following decades. At the centre of this process of self-definition was the Socialist International, the organisation that linked socialist parties around the world — though mostly Europe —, offering an international source of authority and identity alternative to the Soviet Union and communism. Quantitative text analysis can reveal much about the content and style of social democratic ideological texts, aiding traditional analysis and producing new insights."
   ]
  },
  {
   "cell_type": "markdown",
   "metadata": {
    "tags": [
     "hermeneutics",
     "narrative"
    ]
   },
   "source": [
    "At the same time, the analysis of the corpus of the Socialist International is an opportunity to refine the tools of digital history for the history of the middle of the Twentieth Century. As George Orwell famously noted, the language employed in politics is very different from ordinary or literary language, to the point that its idiosyncratic rules were counterintuitive and alienating (<cite data-cite=\"7162598/78SZHBC6\"></cite>). For the software of linguistic analysis to produce useful results, it is necessary to refine pre-processing and interpretation. This article will make some suggestions on the matter."
   ]
  },
  {
   "cell_type": "markdown",
   "metadata": {
    "tags": []
   },
   "source": [
    "## The Socialist International and International Socialist Culture"
   ]
  },
  {
   "cell_type": "markdown",
   "metadata": {
    "tags": [
     "narrative"
    ]
   },
   "source": [
    "For a long time, historians quietly ignored the Socialist International under the assumption that socialist internationalism ceased to matter after it was crushed by the national frenzy of the First World War. Donald Sassoon was satisfied with writing the history of European socialism as the parallel history of national parties dealing with similar problems but without meaningful coordination and just a rhetorical reference to internationalism (<cite data-cite=\"7162598/CPNQAM9H\"></cite>, p. 210). However, new concerns and new perspectives have reopened interest in the Socialist International. New research has focused on internationalism as practical international networking and communication, which enabled socialists to successfully coordinate strategies and policies at European and national level (<cite data-cite=\"7162598/I2RSSEXX\"></cite>;<cite data-cite=\"7162598/H2F8Z4HQ\"></cite>; <cite data-cite=\"7162598/JCJUU29Q\"></cite>; <cite data-cite=\"7162598/7QX9SMK9\"></cite>; <cite data-cite=\"7162598/F6U8I9WM\"></cite> ; <cite data-cite=\"7162598/MYBYUJWP\"></cite>; <cite data-cite=\"7162598/36LLMGL6\"></cite>; <cite data-cite=\"7162598/HTWNNPYJ\"></cite>). Likewise, internationalist sense of belonging to a community that practiced regular contacts and meeting allowed the regular transnational transfer of ideas and practices among socialists. The postwar history of social democracy is not just national but national and transnational at the same time."
   ]
  },
  {
   "cell_type": "markdown",
   "metadata": {
    "tags": [
     "narrative"
    ]
   },
   "source": [
    "The history of the Socialist International in the period under analysis had many sudden turns and transformations. At the beginning of the Second World War, the Labour and Socialist International — the international organisation for socialist parties — collapsed due the inability to take a common stance (<cite data-cite=\"undefined\"></cite>; <cite data-cite=\"undefined\"></cite>). In London, the British Labour Party organised socialist exiles from occupied Europe, where they debated the future of internationalism and socialism after the war. These hopes received a huge boost by the Labour Party’s victory at the 1945 election, which allowed the government of Clement Attlee to start radical reforms in Britain — nationalisations, the Welfare State, the National Health Service — that would serve as a model for democratic socialists. Socialists met once again in May 1946 and they agreed to restart their internationalist debates and coordination through the International Socialist Conference, a provisional organisation to prepare the re-establishment of the Socialist International. Cooperation proved difficult, as the International Socialist Conference included staunchly anti-communist parties — such as the Nordic socialists — and parties that were allied with the communists — such as the Eastern European socialists, but also the French and Italian socialists (<cite data-cite=\"7162598/53LDE5IG\"></cite>). Most socialist leaders still hoped to achieve some cooperation or at least mutual respect with the communists and the Soviet Union, in order to continue joint efforts for European reconstruction and world peace. The British Labour Party supported the decision by Eastern European socialists to ally with the communists while trying to boost their confidence and political independence. In truth, this was impossible, as the Soviet Union could not accept even limited national independence behind the Iron Curtain. Western socialists accepted the US plan of European reconstruction, requiring the isolation of Eastern Europe and the expulsion of communists from Western governments. In 1947, with the formation of the Cominform, the communists forced the socialists in Eastern Europe to fuse with the communists, forming nominally united socialist parties, which were actually under communist control. They also opened hostility towards social democrats in Western Europe. This hostility culminated with the Prague Coup of February 1948, when Czechoslovak communists crushed even the pretence of democracy and the independent Czechoslovak social democratic party capitulated and fused with the communists. The International Socialist Conference made a decisive turn towards militant anti-communism. Pro-communist Eastern European socialists abandoned the organisation and soon were absorbed into communist parties, while socialist refugees from Eastern Europe came to Western Europe, where their comrades helped them set up their anti-communist propaganda activities."
   ]
  },
  {
   "cell_type": "markdown",
   "metadata": {
    "tags": [
     "narrative"
    ]
   },
   "source": [
    "With the anti-communist turn, social democratic internationalism came to be defined by its exclusivity. The International Socialist Conference and later the Socialist International only admitted socialist parties that rejected cooperation with communism and embraced the democratic road to socialism. The Italian Socialist Parties kept its alliance with the Italian Communist Party, so for the April 1948 elections the International Socialist Conference backed the anti-communist social democrats that had split from the main party; the Italian Democratic Socialist Party would become the official Italian representative at the Socialist International (<cite data-cite=\"7162598/AMLXJIUD\"></cite>). From 1948, social democrats started a process to refine their identity and ideology that brought the identification of socialism with fully realised democracy. Liberal democracy was a necessary prerequisite, but true socialism would be achieved by introducing democratic rule in all spheres, including politics, economy, society and international relations. “Without freedom there can be no Socialism. Socialism can be achieved only through democracy. Democracy can be fully realised only through Socialism” (<cite data-cite=\"7162598/ZD6WR6LT\"></cite> p. 16). The process of ideological refinement advanced through public and private debates and culminated at the Frankfurt Conference, where the Socialist International was officially restored. The principles of democratic socialism were synthetized in “Aims and Tasks of Democratic Socialism” — the so-called Frankfurt Declaration —, the declaration of principles that the Socialist International adopted with its constitution."
   ]
  },
  {
   "cell_type": "markdown",
   "metadata": {
    "tags": [
     "narrative"
    ]
   },
   "source": [
    "The Frankfurt Declaration was not simply a summary of shared beliefs, it enshrined a definition of democratic socialism that all member parties had to accept: “The International Socialist Conference, later the Socialist International, was a creative force: it did not describe democratic socialism, it created the common definition of democratic socialism”(<cite data-cite=\"undefined\"></cite>, p. 9). Not only the declaration was binding for all members, it started a process of ideological revision. The drafting of the Frankfurt Declaration allowed the ideological innovation of Swedish, British and Dutch socialists to be elevated at international doctrine, while stimulating new ideas in Italian and French socialism and particularly German social democracy (SPD). There is direct descent from the Frankfurt Declaration to the Bad Godesberg programme (<cite data-cite=\"undefined\"></cite>, pp. 283–288)."
   ]
  },
  {
   "cell_type": "markdown",
   "metadata": {
    "tags": [
     "narrative"
    ]
   },
   "source": [
    "After its rebirth, the Socialist International expanded its interest. Socialists were divided over the strategy towards European integration and how to promote detente. As the new countries created by decolonisation — what was soon to be known as “The Third World” — looked for models of development and social justice, the Socialist International tried to overcome its Eurocentrism and approached socialists in Asia and South America (<cite data-cite=\"7162598/A9X67BLL\"></cite>; <cite data-cite=\"undefined\"></cite>). More importantly, European socialists faced new economic and social phenomena. The ruination of war soon gave way to accelerating growth and rising wages, which coupled with the new Welfare State eroded traditional poverty and spread consumerism and prosperity among the working-class (<cite data-cite=\"7162598/RCPW6JTA\"></cite>). Internal debates started a new wave of socialist revisionism to adapt socialism to a new era of mixed economy and expanding middle class."
   ]
  },
  {
   "cell_type": "markdown",
   "metadata": {
    "tags": [
     "narrative"
    ]
   },
   "source": [
    "These years full of events and reversal of fortunes saw intense debates among socialists, as they tried to make sense of a world changing more rapidly than they could grasp. Active regulation was implemented to exclude communists, but the definition of socialism inside the socialist family was left to the internal debates and negotiations over the political language. By reconstructing what the socialists were saying among themselves and what they were trying to communicate to the wider world, it is possible to catch social democratic culture as it crystallised in a stable form."
   ]
  },
  {
   "cell_type": "markdown",
   "metadata": {
    "tags": [
     "narrative"
    ]
   },
   "source": [
    "This article will focus on two collections of texts that the Socialist International produced in order to offer a systematic version of democratic socialism — one before the drafting of the Frankfurt Declaration and one after. Between 1947 and 1949, the International Socialist Conference published the magazine \"Socialist World\". \"Socialist World\" was a peculiar journal, since it did not employ journalists but it published articles submitted by the affiliated parties.  Its editors Edith Loeb, a German socialist exile, and the British Edward Thompson were responsible for gathering the articles and have them translated in English. They also wrote “Notes of the Quarter” — a summary of recent events — and book reviews. The journal offered a platform for socialists belonging to the International Socialist Conference to explain their ideas and concerns to other socialists and the international public opinion, allowing all socialists to learn from their comrades’ experience and dispelling nationalism and misunderstanding (SW11; references to the articles of \"Socialist World\" can be found in Appendix 1). The editorial line of Socialist World was to publish two kinds of articles: “Some will report on political situations; others will express different shades of opinion of socialist theory, method and aim” (SW12)."
   ]
  },
  {
   "cell_type": "markdown",
   "metadata": {
    "tags": [
     "narrative"
    ]
   },
   "source": [
    "\"Socialist World\" had a traumatic history. The first four issues were printed when the International Socialist Conference was trying to reconcile anti-communist socialists from Western Europe and pro-communist socialists from Eastern Europe and Italy. The editorial line was to publish the opinion of different parties to show unity in diversity, sometimes balancing one point of view against the other (Loeb to Ian Mackay, 11 December 1947, in International Institute of Social History, Amsterdam(IISH), Socialist International Archive (SI), Box 454, General Correspondence 1947). As the Prague Coup (21–25 February 1948) crashed any hope of cohabitation, the journal abruptly shifted to militant anti-communist rhetoric in the last three issues. The goal of the International Socialist Conference was now to make \"Socialist World\" “More challenging in [its] content” (Martin C. Bolle, “Statement of the activities and finance of the Socialist Information and Liaison Office and the Sub-Committee of Comisco in charge of it,” 27 May 1948, in IISH, SI, Box 47). However, \"Socialist World\" proved a failure — though the Czech edition was quite successful, as long as Czechoslovak social democrats were allowed to print it. "
   ]
  },
  {
   "cell_type": "markdown",
   "metadata": {
    "tags": [
     "narrative"
    ]
   },
   "source": [
    "The second collection was conceived just after the approval of the Frankfurt Declaration. In 1951, the Socialist International planned the publication of a book on \"The Ideological Development of Democratic Socialism\". The procedure was similar \"Socialist World\": each member party was to produce an essay describing their national peculiarities and contributions to socialist ideology. The project was encumbered by immense delays by contributors. Finally, in 1955, the Socialist International concluded that it did not have enough material for a book, so it published the chapters received so far in its official newsletter Socialist International Information. However, some parties sent their contributions later and the book came out as a single volume in German (<cite data-cite=\"7162598/JZCLYLHW\"></cite>) and as a series of pamphlets in Italian — though in a very different form. "
   ]
  },
  {
   "cell_type": "markdown",
   "metadata": {
    "tags": [
     "narrative"
    ]
   },
   "source": [
    "Despite their failure, the two collections were interesting attempt to produce an international literature of socialism."
   ]
  },
  {
   "cell_type": "markdown",
   "metadata": {
    "tags": []
   },
   "source": [
    "## Digital History"
   ]
  },
  {
   "cell_type": "markdown",
   "metadata": {
    "tags": [
     "narrative"
    ]
   },
   "source": [
    "What made a new focus on socialist internationalism possible and rewarding were methodological innovations in political history — not only a new focus on transnationalism, but a new focus on language as the main instrument of political action (<cite data-cite=\"7162598/RSPXTAQ7\"></cite>). The school of “New Political History” emerged from the linguistic turn as an attempt away from the social determinism of vulgar Marxism and the elite-focused traditional political history (<cite data-cite=\"7162598/NCE8EWRH\"></cite>; <cite data-cite=\"7162598/VQHVDUA5\"></cite>; <cite data-cite=\"7162598/NPUN48ES\"></cite>; <cite data-cite=\"7162598/XLV3LF4W\"></cite>). As language plays a central role in politics and defines political cultures and identities, New Political History gives great consideration to political ideas and rhetoric. While this can be reduced to an anthropological description of politics as a self-referring activity, the ambition of new political history is to use political culture and language as an explanatory factor. What is particularly significant is that political language is often the most important link between leaders and followers: political entrepreneurs build values and interpretations about social phenomena that people can accept as their political identity and framework to understand their reality. Socialists could coordinate their actions at local, national and international level because they built discourses that expressed their values, defined their identities, set their goals, established what it was appropriate to do. It was the discourse that turned disparate individuals into a movement that could move towards shared goals. Of course, unity was not the only outcome, the creation of meaning could be rejected as well as accepted: new political history dissects political speech as illocutionary acts — the act of the speaker of affirming or revising conceptual conventions — and perlocutionary acts — the effect they produce on the audience. Indeed, transmission of meaning was not univocal, but rather a dialogue and a negotiation among political leaders and between political leaders and the rank and file. The political struggle is a struggle over meaning: winning requires the preferred meaning of the shared words to be accepted first within the party then within the electorate. "
   ]
  },
  {
   "cell_type": "markdown",
   "metadata": {
    "tags": [
     "hermeneutics"
    ]
   },
   "source": [
    "What makes new political history a suitable framework for quantitative text analysis is not just the centrality of language. Traditional analysis is too often focused on few key speeches by great leaders through close reading, what Franco Moretti calls “very solemn treatment of very few texts taken very seriously”(<cite data-cite=\"7162598/D82JKYSW\"></cite>, p. 72). According to Fabian Brinkmannn, such “symptomatic reading” tries to gain general significance from individual cases assumed to be representative. What Moretti instead calls “distant reading” is more suitable for investigating political culture in the era of mass parties and popular politics, given the potential of quantitative text analysis to analyse hundreds of thousands of articles and speeches by thousands of politicians, intellectuals and party activists. While close reading of selected text could produce anthropological thick description of culture and narrative, distant reading allows to identify general trends and trace the long-term evolution of discourses (<cite data-cite=\"undefined\"></cite>, p. 319)."
   ]
  },
  {
   "cell_type": "markdown",
   "metadata": {
    "tags": [
     "hermeneutics"
    ]
   },
   "source": [
    "As Mats Fridlund noticed, history is rather conservative in its approach to digital humanities, being willing only to integrate innovations to reinforce existing methods and practices and refusing to disrupt the discipline through a paradigmatic transformation (<cite data-cite=\"7162598/TE8WR4XE\"></cite>). Fridlund sees an integration of traditional and digital methods as more likely, combining quantitative and qualitative text analysis. Indeed, most researchers are at pains to reject the idea of quantitative text analysis as an exclusive tool. According to Blaxill, quantitative text analysis must support close reading of individual texts by providing a panoramic view, assessing what is typical and part of a larger trend, improve verifiability and uncover unexpected evidence or the absence of evidence (<cite data-cite=\"undefined\"></cite>, pp. 328–330). Grimmer and Stewart believe that quantitative methods can augment the ability of researchers to analyse large quantities of political texts, but they do not substitute close reading (<cite data-cite=\"undefined\"></cite>). Guldi argues that topic modelling can identify repeated patterns of actions and speech, which are expression of historical structures of power and identity."
   ]
  },
  {
   "cell_type": "markdown",
   "metadata": {
    "tags": [
     "hermeneutics"
    ]
   },
   "source": [
    "This article is going to employ topic modelling, a tool that has already a solid track-record in historical research. Topic modelling is a form of computer-aided text processing meant to uncover latent structures — topics — in the text that are responsible for a set of observations — words (<cite data-cite=\"7162598/MANW3KY8\"></cite>; <cite data-cite=\"7162598/PXZ593JP\"></cite>; <cite data-cite=\"7162598/ITETKBSG\"></cite>). Topic modelling analyses a corpus — a collection of texts—, composed of individual documents, in turn composed of individual terms. The program identifies “topics” — what the document talks about — as cluster of words that tend to co-occur. Topic modelling works under the assumptions that the order of the words within the document text is irrelevant (bag of words). Latent Dirichlet Allocation (LDA) is the most common and most tested form of topic modelling. It is particularly useful for exploratory and descriptive analysis. More advanced forms of topic modelling also consider metadata and the relationship between topics, showing the dynamic evolution of a topic. LDA works under the assumption that each document is composed of multiple topics, each with a different weight, and each topic is composed of multiple words, each with a different probability to co-occur with other words."
   ]
  },
  {
   "cell_type": "markdown",
   "metadata": {
    "tags": [
     "hermeneutics"
    ]
   },
   "source": [
    "According to Fridlund and Brauer, Topic Modelling serves as a form of data mining to extract information from large collections of texts or as a confirmation of intuition (<cite data-cite=\"7162598/7VTLT2M8\"></cite>). Guldi also believes that it is normal for 80 per cent of the results of topic modelling to be unsurprising; at the same time, the tool can reveal ignored episodes and produce a new macro perspective (<cite data-cite=\"7162598/8YVYLTUE\"></cite>). For Greene and Cross, topic modelling also reveal where the attention of political speakers was — especially if their space to write or time to speak was limited (<cite data-cite=\"7162598/92U8GYK8\"></cite>, p. 79). Jo and Brinkmann see the possibility of integrating topic modelling into theory-driven Discourse Analysis, as it could statistically represent the existence of multiple discourses in a society that regulate what ideas and words are possible to articulate (<cite data-cite=\"7162598/T74IV2PP\"></cite>;<cite data-cite=\"7162598/MXU35R7X\"></cite>). Grimmer and Stewart say that automated content analysis can serve to scale political actors and locate them in the ideological space — if their language is ideological enough (<cite data-cite=\"undefined\"></cite>). "
   ]
  },
  {
   "cell_type": "markdown",
   "metadata": {
    "tags": [
     "hermeneutics"
    ]
   },
   "source": [
    "These political researchers and historians tend to believe that the corpora for historical research should be small: “Unlike the giant corpora of hundreds of millions of words common in linguistics, these smaller corpora do not become larger than the historian, and quantify only what has first been read” (<cite data-cite=\"undefined\"></cite>, p. 322). This is the case for the corpus produced by the Socialist International. However, there are many advantages in picking this corpus for analysis. First of all, the corpus is exhaustive: it is not a selection of texts by the Socialist International, it includes all the articles and essays the Socialist International produced for the wider public in the late 1940s and early 1950s. Secondly, the corpus is representative: all the major parties of the Socialist International contributed an article to the journal or the book, a wide range from different political system and national contexts. However, there is no language barrier, since all the texts are in English. If translation is a violence, in this case it is one not imposed by the researcher, but part of the original conception. While qualitative text analysis forces to analyse texts in the same language — often recreating a form of national exceptionalism —, it is possible to bring a comparative and transnational perspective to quantitative text analysis. "
   ]
  },
  {
   "cell_type": "markdown",
   "metadata": {
    "tags": [
     "hermeneutics"
    ]
   },
   "source": [
    "## The Importance of Preprocessing"
   ]
  },
  {
   "cell_type": "markdown",
   "metadata": {
    "tags": [
     "hermeneutics"
    ]
   },
   "source": [
    "Although Topic Modelling with LDA is unsupervised, choices on how to pre-process the texts and setting the number of topics to find greatly influence the output. Theories or sound guidelines on how to set these parameters are still underdeveloped (<cite data-cite=\"undefined\"></cite> p. 336). Even the insights gained in one field might be useless or counterproductive in another. This section will describe the problems in preparing the texts produced by the Socialist International for analysis."
   ]
  },
  {
   "cell_type": "markdown",
   "metadata": {
    "tags": [
     "hermeneutics"
    ]
   },
   "source": [
    "Preliminary operations are standard for topic modelling and other forms of quantitative text analysis: make all the words lowercase, eliminate punctuation between words, eliminate apostrophes."
   ]
  },
  {
   "cell_type": "markdown",
   "metadata": {
    "tags": [
     "hermeneutics"
    ]
   },
   "source": [
    "A very significant decision was not to proceed with stemming or lemmatization, because it would cancel a lot of nuances, as political language often depends on subtle variations on similar terms. Stemming “socialism” into “social” would make it indistinguishable from the adjective “social” — which could be attached to another term to become “social movement”, “social reforms” or “social class”. Lemmatization is more promising, but even so we would lose the distinction between “socialist” — the adjective referring to ideas or policies — and “socialists” — the people with the agency to implement them. Lemmatization would also make it more difficult to produce consistent ngrams."
   ]
  },
  {
   "cell_type": "markdown",
   "metadata": {
    "tags": [
     "hermeneutics"
    ]
   },
   "source": [
    "The choices regarding ngrams were the most significant for the comprehension of the text and thus the most difficult. Ngrams are word sequences, usually of two or three words (bigrams and trigrams respectively) that are treated as a single word. How important this decision was is best exemplified by the most common pairing: the term “social democracy.” Because of the bag of words assumption, the program would treat “social” and “democracy” as two separate tokens. Not only this would have made finding the term harder, but it would have altered the frequency of the words “social” and “democracy” as self-standing terms. In order to make the term recognisable by the program, I connected them through an underscore in order to turn them into one token — for example “social democracy” became “social_democracy”. The crux of the problem was which word pairings to turn into one token. The decision had to be taken case by case by someone already very familiar with the ideological texts of twentieth century European social democracy, so I prepared a list of bigrams and trigrams."
   ]
  },
  {
   "cell_type": "markdown",
   "metadata": {
    "tags": [
     "hermeneutics"
    ]
   },
   "source": [
    "Compiling the list, I followed a series of criteria. Comparison with other languages was useful: “social democracy” is one word in German and Italian and a hyphenated word in French, so it made most sense to turn the bigram into “social_democracy.”. Name of institutions are often a string of two, three or even more words. “United Nations” would mean much more than the two tokens “united” and “nations”. As for “national socialism” and “anti-fascism”, not only they could be one word without hyphen — as they are in other languages —, but the independent word would send a signal opposite to its meaning."
   ]
  },
  {
   "cell_type": "markdown",
   "metadata": {
    "tags": [
     "hermeneutics"
    ]
   },
   "source": [
    "Other ngrams were left as two tokens. For example, the texts speak interchangeably of “Soviet Union” and “Soviet Russia”. “Soviet” is enough to understand the reference to the state — there were no references to the “soviet” as a revolutionary council. The individual word “Soviet” can count all references to the Soviet Union, while making the two bigrams into two separate tokens would be useless and indeed reduce the visibility of the reference. "
   ]
  },
  {
   "cell_type": "code",
   "execution_count": null,
   "metadata": {
    "tags": [
     "hermeneutics-step"
    ]
   },
   "outputs": [],
   "source": [
    "#Setting up folders and loading packages\n",
    "set.seed(12345)\n",
    "library(XML)\n",
    "library(tm)\n",
    "library(quanteda)\n",
    "library(topicmodels)\n",
    "library(textclean)\n",
    "library(tokenizers)\n",
    "library(wordcloud)\n",
    "library(ggplot2)\n",
    "library(pals)\n",
    "\n",
    "inputDir<-\"SI_Texts\""
   ]
  },
  {
   "cell_type": "code",
   "execution_count": null,
   "metadata": {
    "tags": [
     "hermeneutics-step"
    ]
   },
   "outputs": [],
   "source": [
    "## Uploading texts, n-grams and metadata\n",
    "files.v<-dir(path=inputDir, pattern=\".*xml\")\n",
    "number.of.documents<-as.double(length(files.v))\n",
    "list.of.trigram.df<-read.csv(file=\"List trigrams.csv\", sep=\";\")\n",
    "list.of.bigram.df<-read.csv(file=\"List bigrams.csv\", sep=\";\")\n",
    "metadata<-read.csv(file=\"SI_metadata.csv\", sep=\";\")\n",
    "document.ID.v<-metadata$ID"
   ]
  },
  {
   "cell_type": "code",
   "execution_count": null,
   "metadata": {
    "tags": [
     "hermeneutics-step"
    ]
   },
   "outputs": [],
   "source": [
    "#Uploading the raw corpus as a dataframe\n",
    "corpus.raw.df<-data.frame(0,0)\n",
    "for(i in 1:length(files.v)){\n",
    "  corpus.raw.df[i,1]<-as.character(document.ID.v[i])  \n",
    "  doc.object <- xmlTreeParse(file.path(inputDir, files.v[i]),useInternalNodes=TRUE)\n",
    "  paras<-getNodeSet(doc.object, \"/d:TEI/d:text/d:body//d:p\",c(d=\"http://www.tei-c.org/ns/1.0\"))\n",
    "  words<-paste(sapply(paras, xmlValue), collapse=\" \")\n",
    "  words<-tolower(words)\n",
    "  words<-gsub(\"-\", \"_\", words)\n",
    "  words<-strip(words, char.keep = \"_\", apostrophe.remove = FALSE)\n",
    "  words<-gsub(\"'\", \" \", words)\n",
    "  corpus.raw.df[i,2]<-words\n",
    "    }\n",
    "colnames(corpus.raw.df)<- c(\"ID\", \"Text\") \n",
    "\n",
    "\n",
    "\n",
    "\n",
    "#Turning bigrams and trigrams into a single token\n",
    "corpus.grammed.df<-corpus.raw.df\n",
    "\n",
    "for(i in 1:length(corpus.grammed.df$Text)){\n",
    "  text.to.substitute.v<-corpus.grammed.df[i,2]\n",
    "  for(l in 1:length(list.of.trigram.df$Pattern)){\n",
    "    pattern.f<-list.of.trigram.df[l,1]\n",
    "    replacement.f<-list.of.trigram.df[l,2]\n",
    "    text.to.substitute.v<-gsub(pattern.f,replacement.f, text.to.substitute.v)\n",
    "  }\n",
    "  for(k in 1:length(list.of.bigram.df$Pattern)){\n",
    "    pattern.f<-list.of.bigram.df[k,1]\n",
    "    replacement.f<-list.of.bigram.df[k,2]\n",
    "    text.to.substitute.v<-gsub(pattern.f,replacement.f, text.to.substitute.v)\n",
    "  }\n",
    "  corpus.grammed.df[i,2]<-text.to.substitute.v\n",
    "}"
   ]
  },
  {
   "cell_type": "markdown",
   "metadata": {
    "tags": [
     "hermeneutics-step"
    ]
   },
   "source": [
    "As a last step, I removed stopwords from the documents — meaning the most common words in a language that would appear in every text regardless of the topic."
   ]
  },
  {
   "cell_type": "code",
   "execution_count": null,
   "metadata": {
    "tags": [
     "hermeneutics-step"
    ]
   },
   "outputs": [],
   "source": [
    "#Remove stopwords\n",
    "\n",
    "for(i in 1:length(corpus.grammed.df[,2])){\n",
    "  corpus.grammed.df[i,2]<-removeWords(corpus.grammed.df[i,2], \n",
    "                                      tm::stopwords(\"SMART\"))}"
   ]
  },
  {
   "cell_type": "markdown",
   "metadata": {
    "tags": [
     "hermeneutics-step"
    ]
   },
   "source": [
    "The solution for the problem of ngrams is sufficient to understand the thematic content of the text but it is far from perfect. To return to the previous example, “social democracy” makes sense as the specific label of an idea and a movement, but the expression gains rhetorical strength by associating the term “democracy” to the term “social”, going beyond mere formal or liberal democracy. Different kind of analysis require different forms of preprocessing."
   ]
  },
  {
   "cell_type": "markdown",
   "metadata": {
    "tags": [
     "hermeneutics"
    ]
   },
   "source": [
    "## Exploring the Corpus with Topic Modelling"
   ]
  },
  {
   "cell_type": "markdown",
   "metadata": {
    "tags": [
     "hermeneutics"
    ]
   },
   "source": [
    "Among the many uses of topic modelling, description and exploration of data is basic but important. The ability to describe the content of texts is very useful when dealing with a large corpus. Even though the corpus of the Socialist International is not too large to be read closely, topic modelling can uncover macro trends and underlying structures that could evade individual reading."
   ]
  },
  {
   "cell_type": "markdown",
   "metadata": {
    "tags": [
     "hermeneutics"
    ]
   },
   "source": [
    "The corpus of the Socialist International is made up of 55 articles from \"Socialist World\" and 9 essays from \"The Ideological Development of Democratic Socialism\" — all listed in Appendix 1. Some articles from \"Socialist World\" were not included in the corpus because they were too short to be analysed properly — mostly reviews. In order to compensate for the different length, I decided to cut all documents into strings of 1000 words."
   ]
  },
  {
   "cell_type": "code",
   "execution_count": null,
   "metadata": {},
   "outputs": [],
   "source": [
    "#Turning the texts into strings of equal length\n",
    "chunked.corpus.l<-chunk_text(corpus.grammed.df[,2], \n",
    "                             chunk_size = 1000, doc_id = corpus.grammed.df[,1])\n",
    "chunked.corpus.df<-cbind(names(chunked.corpus.l),(do.call(rbind.data.frame, chunked.corpus.l,)) )\n",
    "colnames(chunked.corpus.df) <- c(\"ID\", \"Text\")\n",
    "\n",
    "# create a document feature matrix \n",
    "\n",
    "sotu.corpus<-corpus(as.character(chunked.corpus.df$Text), docnames = as.character(chunked.corpus.df$ID))\n",
    "\n",
    "corpus.tokens<-tokens(sotu.corpus)\n",
    "\n",
    "corpus.dtm<-dfm(corpus.tokens, tolower = FALSE)"
   ]
  },
  {
   "cell_type": "markdown",
   "metadata": {
    "tags": [
     "hermeneutics"
    ]
   },
   "source": [
    "As mentioned above, there is no established method to set the number of topics with LDA. Measuring topic coherence, as suggested by some practitioners, did not produce topics with greater human legibility. After many trials, the number of topic was set empirically at 18."
   ]
  },
  {
   "cell_type": "code",
   "execution_count": null,
   "metadata": {},
   "outputs": [],
   "source": [
    "# Fit a Latent Dirichlet Allocation model with set number of topics \n",
    "\n",
    "number.of.topics<-18\n",
    "\n",
    "topicModel <- LDA(corpus.dtm, number.of.topics, \n",
    "                  method=\"Gibbs\", \n",
    "                  control=list(iter = 1000, seed=1, \n",
    "                               verbose = 25))"
   ]
  },
  {
   "cell_type": "markdown",
   "metadata": {
    "tags": [
     "hermeneutics"
    ]
   },
   "source": [
    "After producing the topic model, I have extracted the two most important measurements, phi and theta. Phi represents the distribution of words over topics. Theta represents the distribution of topics over documents. "
   ]
  },
  {
   "cell_type": "code",
   "execution_count": null,
   "metadata": {},
   "outputs": [],
   "source": [
    "tmResult<-posterior(topicModel)\n",
    "\n",
    "phi<-tmResult$terms\n",
    "\n",
    "theta <- tmResult$topics"
   ]
  },
  {
   "cell_type": "markdown",
   "metadata": {
    "tags": [
     "hermeneutics"
    ]
   },
   "source": [
    "However, theta is not useful, because the documents had been cut into 1000 words strings. To correct it, I determined the distribution of topics over the original documents by taking the values of the strings composing the original document and calculating their mean value (<cite data-cite=\"7162598/G7VPPJUD\"></cite>, p. 152-154)."
   ]
  },
  {
   "cell_type": "code",
   "execution_count": null,
   "metadata": {},
   "outputs": [],
   "source": [
    "#Dataframe of the composition of documents, with percentage of topics in each\n",
    "  chunk.composition.df<-as.data.frame(theta)\n",
    "  \n",
    "  file.ids.v <-rownames(chunk.composition.df) \n",
    "  file.id.l <- strsplit(file.ids.v, \"-\") \n",
    "  file.chunk.id.l <- lapply(file.id.l, rbind) \n",
    "  file.chunk.id.m <- do.call(rbind, file.chunk.id.l)\n",
    "  \n",
    "  chunk.composition.df <- cbind(file.chunk.id.m[,1], \n",
    "                                chunk.composition.df)\n",
    "  \n",
    "  theta.mean.p<- as.matrix(aggregate(chunk.composition.df[, 2:ncol(chunk.composition.df)],\n",
    "                                            list(chunk.composition.df[,1]),\n",
    "                                            mean))\n",
    "  \n",
    "  theta.mean<-theta.mean.p[,2:(number.of.topics+1)]\n",
    "theta.mean<-apply(theta.mean, c(1,2), FUN=as.numeric)\n",
    "row.names(theta.mean)<-theta.mean.p[,1]\n"
   ]
  },
  {
   "cell_type": "markdown",
   "metadata": {
    "tags": [
     "hermeneutics",
     "narrative"
    ]
   },
   "source": [
    "Using the distribution of words over documents made it possible to read the composition of the 18 topics and attribute them a synthetic label. The list of topics gives a panoramic view of the interests of European social democracy in the early Cold War era."
   ]
  },
  {
   "cell_type": "code",
   "execution_count": null,
   "metadata": {
    "jdh": {
     "module": "object",
     "object": {
      "source": [
       "table 1: 18 topics and synthetic label"
      ],
      "type": "image"
     }
    },
    "tags": [
     "table-1"
    ]
   },
   "outputs": [],
   "source": [
    "#Labelling each topic\n",
    "\n",
    "topic_ID.v<-c(\"T1\",\"T2\",\"T3\", \"T4\", \"T5\", \"T6\",\"T7\", \"T8\", \"T9\",\"T10\",\n",
    "              \"T11\",\"T12\", \"T13\",\"T14\",\"T15\",\"T16\", \"T17\", \"T18\")\n",
    "\n",
    "topic_labels.v<-c(\"Topic 1: Europe and Federalism\",\"Topic 2: Germany\", \n",
    "                                    \"Topic 3: International Affairs\", \n",
    "                                    \"Topic 4: Socialist parties (marginal 1)\",\n",
    "                                    \"Topic 5: Socialism (general)\", \"Topic 6: Austria\", \"Topic 7: French colonialism\",\n",
    "                                    \"Topic 8: British colonialism\", \"Topic 9: Italy\", \"Topic 10: Labour movement\",\n",
    "                                    \"Topic 11: North American labour movement\", \n",
    "                                    \"Topic 12: French socialism\", \"Topic 13: Economy\",\n",
    "                                    \"Topic 14: British socialism and nationalisation\", \n",
    "                                    \"Topic 15: Ideological development and planning\",\n",
    "                                    \"Topic 16: Party affairs\", \"Topic 17: Industry and mixed economy\", \n",
    "                                    \"Topic 18: Socialist parties (marginal 2)\")\n",
    "\n",
    "rownames(phi)<-topic_labels.v\n",
    "colnames(theta)<- topic_labels.v\n",
    "colnames(theta.mean)<- topic_labels.v\n",
    "\n",
    "topic.overview.df<-as.data.frame(topic_labels.v)\n",
    "top_terms.df<-as.data.frame(get_terms(topicModel, 30))\n",
    "\n",
    "\n",
    "for(i in 1:number.of.topics){\n",
    "  topic.overview.df[i,2]<-paste(as.character(top_terms.df[,i]),collapse=\", \" )\n",
    "  \n",
    "}\n",
    "colnames(topic.overview.df)<-c(\"Topic Label\", \"Most probable terms\")\n",
    "\n",
    "topic.overview.df\n"
   ]
  },
  {
   "cell_type": "code",
   "execution_count": null,
   "metadata": {},
   "outputs": [],
   "source": [
    "color.topics<-polychrome(n=18)\n",
    "color.documents<-as.character(metadata$Bloc)\n",
    "color6<-brewer.pal(n=6, \"Set2\")\n",
    "color.documents[color.documents==\"British\"]<-color6[1]\n",
    "color.documents[color.documents==\"Continental\"]<-color6[2]\n",
    "color.documents[color.documents==\"Editors\"]<-color6[3]\n",
    "color.documents[color.documents==\"Leftist\"]<-color6[4]\n",
    "color.documents[color.documents==\"Nordic\"]<-color6[5]\n",
    "color.documents[color.documents==\"Marginal\"]<-color6[6]"
   ]
  },
  {
   "cell_type": "markdown",
   "metadata": {
    "tags": [
     "narrative"
    ]
   },
   "source": [
    "A cursory view of the eighteen topics immediately reveal a stark difference between some general topics and some very specific topics. The topics with a more balanced distribution over the documents are the following: “Topic 16: Party affairs”; “Topic 5: Socialism (general)”; “Topic 13: Economy”; “Topic 3: International Affairs”. Not only are these the most common issues social democrats would be talking about, but the vocabulary is not specific to any nation."
   ]
  },
  {
   "cell_type": "code",
   "execution_count": null,
   "metadata": {
    "jdh": {
     "module": "object",
     "object": {
      "source": [
       "figure 1: Essays of the book Ideological Development of Democratic Socialism are identified by the surname of the author. Articles from Socialist World are identified by SW and a number. For Example SW56 is 'Antal Ban, The last months of social democracy in Hungary, Socialist World, June-August 1948' and Christiansen is 'Ernst Christiansen, The Ideological Development of Democratic Socialism in Denmark, Socialist International Information, 4 January 1958, 1–16'. The ID can be found in Appendix 1"
      ],
      "type": "image"
     }
    },
    "tags": [
     "figure-1"
    ]
   },
   "outputs": [],
   "source": [
    "print(\"Essays of the book Ideological Development of Democratic Socialism are identified by the surname of the author. Articles from Socialist World are identified by SW and a number.\") \n",
    "print(\"For Example SW56 is 'Antal Ban, The last months of social democracy in Hungary, Socialist World, June-August 1948' and Christiansen is 'Ernst Christiansen, The Ideological Development of Democratic Socialism in Denmark, Socialist International Information, 4 January 1958, 1–16'\")\n",
    "print(\"The ID can be found in Appendix 1\")\n",
    "\n",
    "ordine16<-order(theta.mean[16,], decreasing = TRUE)\n",
    "barplot(sort(theta.mean[,16], decreasing = TRUE),\n",
    "        las=2, main=topic_labels.v[16], cex.names=0.5, col=color.documents[ordine16] )\n",
    "words.16<-names(sort(tmResult$terms[16,], decreasing=TRUE))\n",
    "probabilities.16<- sort(tmResult$terms[16,], decreasing=TRUE)  \n",
    "wordcloud(words.16, probabilities.16, min.freq = 1,\n",
    "          max.words=100, random.order=FALSE, rot.per=0.3, \n",
    "          colors=brewer.pal(6, \"Dark2\"))\n",
    "\n",
    "ordine5<-order(theta.mean[5,], decreasing = TRUE)\n",
    "barplot(sort(theta.mean[,5], decreasing = TRUE),\n",
    "        las=2, main=topic_labels.v[5], cex.names=0.5, col=color.documents[ordine5] )\n",
    "words.5<-names(sort(tmResult$terms[5,], decreasing=TRUE))\n",
    "probabilities.5<- sort(tmResult$terms[5,], decreasing=TRUE)  \n",
    "wordcloud(words.5, probabilities.5, min.freq = 1,\n",
    "          max.words=100, random.order=FALSE, rot.per=0.3, \n",
    "          colors=brewer.pal(6, \"Dark2\"))\n",
    "\n",
    "ordine13<-order(theta.mean[13,], decreasing = TRUE)\n",
    "barplot(sort(theta.mean[,13], decreasing = TRUE),\n",
    "        las=2, main=topic_labels.v[13], cex.names=0.5, col=color.documents[ordine13] )\n",
    "words.13<-names(sort(tmResult$terms[13,], decreasing=TRUE))\n",
    "probabilities.13<- sort(tmResult$terms[13,], decreasing=TRUE)  \n",
    "wordcloud(words.13, probabilities.13, min.freq = 1,\n",
    "          max.words=100, random.order=FALSE, rot.per=0.3, \n",
    "          colors=brewer.pal(6, \"Dark2\"))\n",
    "\n",
    "ordine3<-order(theta.mean[3,], decreasing = TRUE)\n",
    "barplot(sort(theta.mean[,3], decreasing = TRUE),\n",
    "        las=2, main=topic_labels.v[3], cex.names=0.5, col=color.documents[ordine3]  )\n",
    "words.3<-names(sort(tmResult$terms[3,], decreasing=TRUE))\n",
    "probabilities.3<- sort(tmResult$terms[3,], decreasing=TRUE)  \n",
    "wordcloud(words.3, probabilities.3, min.freq = 1,\n",
    "          max.words=100, random.order=FALSE, rot.per=0.3, \n",
    "          colors=brewer.pal(6, \"Dark2\"))"
   ]
  },
  {
   "cell_type": "markdown",
   "metadata": {
    "tags": [
     "narrative"
    ]
   },
   "source": [
    "On the other hand, the topics with the most skewed distribution are dominated by nation-specific words. For example, “Topic 6: Austria”, is hardly used by anyone but Benedikt Kautsky writing the history of Austrian socialism for the book “Ideological Development of Democratic Socialism” (KautskyID)."
   ]
  },
  {
   "cell_type": "code",
   "execution_count": null,
   "metadata": {
    "jdh": {
     "module": "object",
     "object": {
      "source": [
       "figure 2: Topic 6 Austria"
      ],
      "type": "image"
     }
    },
    "tags": [
     "figure-2"
    ]
   },
   "outputs": [],
   "source": [
    "rownames(theta.mean)<-paste(metadata$ID, metadata$Country, sep=\"\\n\")\n",
    "ordine6<-order(theta.mean[,6], decreasing = TRUE)\n",
    "barplot(sort(theta.mean[,6], decreasing = TRUE),\n",
    "        las=2, xlim=c(0,5), main=topic_labels.v[6], col=color.documents[ordine6] )\n",
    "words.6<-names(sort(tmResult$terms[6,], decreasing=TRUE))\n",
    "probabilities.6<- sort(tmResult$terms[6,], decreasing=TRUE)  \n",
    "wordcloud(words.6, probabilities.6, min.freq = 1,\n",
    "          max.words=100, random.order=FALSE, rot.per=0.3, \n",
    "          colors=brewer.pal(6, \"Dark2\"))\n",
    "colnames(theta.mean)<- topic_ID.v"
   ]
  },
  {
   "cell_type": "markdown",
   "metadata": {
    "tags": [
     "narrative"
    ]
   },
   "source": [
    "Other topics are easier to identify with specific concerns for postwar socialists, especially contentious ones like the fate of Germany and European affairs. Germany had been at the centre of the recent World War and it was at the centre of any plan to rebuild Europe. It was particularly controversial for socialists, as the International Socialist Conference initially excluded German social democrats and throughout 1947 their admission was harshly debated between British and other Western socialists open to readmit them and Eastern European socialists extremely critical — both for the memory of war and for opposition to the US strategy of rebuilding a West Germany integrated in the West. European integration proved to be extremely controversial for socialists in the 1950s and 1960s, dividing Continental socialists against their British and Nordic comrades (<cite data-cite=\"7162598/QU2SLHVD\"></cite>). Another topic — “Topic 11: North American labour movement” — reveal the interest of the International Socialist Conference for the problems outside the European context in which most parties operated. The Second World War and the Cold War revealed that the major global players were not in Europe anymore."
   ]
  },
  {
   "cell_type": "markdown",
   "metadata": {
    "tags": [
     "narrative"
    ]
   },
   "source": [
    "Beyond a simple survey of the topics extracted by this topic modelling, Critical Discourse Analysis can offer some important insights. We mentioned above that Critical Discourse Analysis explores the role of how mid-level components of discourse — such as genre — mediate between individual texts and the discourse at large. Likewise, topics mediate between individual documents and the corpus. At a basic level, a topic defines the words that are going to be used when speaking about an issue, so it could be classified as genre. However, we could also classify as genre a specific combination or network of topics."
   ]
  },
  {
   "cell_type": "markdown",
   "metadata": {
    "tags": [
     "narrative"
    ]
   },
   "source": [
    "For example, we mentioned before how “Topic 6: Austria” is used when talking about Austrian topics. However, Kautsky’s text is also composed by more general topics, such as “Topic 5: Socialism (general)”, “Topic 16: Party affairs” and “Topic 3: International Affairs”. Let us compare it with the text “Ideological Development of Democratic Socialism in Italy”, written by Italian socialist Leo Valiani for the same book (ValianiID). The composition of this text appears very similar: the nation-specific “Topic 9: Italy” and the more general topics “Topic 5: Socialism (general)”, “Topic 3: International Affairs”, “Topic 16: Party affairs”. We could conclude that to generate an essay on the history of socialism in a given nation, it is necessary to combine a topic covering national peculiarities and the topics covering common concerns — socialism and its history, international affairs, party affairs. The genre of party history can be represented as a specific network of topics. This confirms that both Socialist World and the book were intended to give the parties a platform to describe their national situation and their specific ideas about socialism, though within shared parameters that made them intelligible to other socialists."
   ]
  },
  {
   "cell_type": "code",
   "execution_count": null,
   "metadata": {
    "jdh": {
     "module": "object",
     "object": {
      "source": [
       "figure 3: The ideological development of democratic socialism in Austria and Italy"
      ],
      "type": "image"
     }
    },
    "tags": [
     "figure-3"
    ]
   },
   "outputs": [],
   "source": [
    "barplot(sort(theta.mean[5,], decreasing = TRUE), \n",
    "        las=2, main=paste(document.ID.v[5], \"\\n\", \"'\", metadata$Title[5], \"'\"),\n",
    "        legend.text=topic_labels.v[order(theta.mean[5,], decreasing = TRUE)],\n",
    "        col=color.topics[order(theta.mean[5,], decreasing = TRUE)])\n",
    "barplot(sort(theta.mean[57,], decreasing = TRUE), \n",
    "        las=2, main=paste(document.ID.v[57], \"\\n\", \"'\", metadata$Title[57], \"'\"),\n",
    "        legend.text=topic_labels.v[order(theta.mean[57,], decreasing = TRUE)],\n",
    "       col=color.topics[order(theta.mean[57,], decreasing = TRUE)])\n",
    "rownames(theta.mean)<-paste(metadata$ID, metadata$Country, sep=\"\\n\")\n",
    "barplot(sort(theta.mean[,9], decreasing = TRUE),\n",
    "        las=2, xlim=c(0,5), main=topic_labels.v[9],\n",
    "       col=color.documents[order(theta.mean[,9], decreasing = TRUE)])\n",
    "colnames(theta.mean)<- topic_ID.v"
   ]
  },
  {
   "cell_type": "markdown",
   "metadata": {
    "tags": [
     "narrative"
    ]
   },
   "source": [
    "In Critical Discourse Analysis, silence can be as important as voice, since discourses regulate what can be and cannot be said and in which terms. Silence is almost impossible to find through close reading, but a comprehensive survey through distant reading allows to notice the absence of a topic. Embarrassment had a crucial importance in socialist internationalism. Socialist leaders with government ambitions were wary in their international contacts with other socialists, because each national leader set strategic decisions and policies in order to maximise their advantage at domestic level. International activities could boost their profile but also damage it. If the Socialist International had had too much autonomy, it could have made declarations against the policy of one party or raised an issue that embarrassed another party. In 1946, the international secretary of the Labour Party, Denis Healey, said that it was better for international socialism to move slowly and cautiously, “not so much […] promoting positive action, as […] preventing action by one member which might seriously but unintentionally damage another” (<cite data-cite=\"7162598/RFAWV8X5\"></cite>). For example, Healey privately said caution was essential as long as anti-communist and pro-communist socialists lived under the same umbrella: “Co-operation between the Socialist Parties in East and West is based on the tacit principle of non-interference in one another’s spheres” (Healey to Robert B. Kirby, 19 March 1947, in Labour History Archive and Study Centre, Manchester (LHASC), Labour Party Archive (LP), International Department (ID), DH, Box 9, Folder 5). What made this situation particularly difficult was that embarrassment was often reciprocal. For example, in the 1950s the French Socialist Party SFIO was embarrassed by international criticism of the French policy in Algeria while the other socialist parties were embarrassed by their association with the SFIO (<cite data-cite=\"undefined\"></cite>;<cite data-cite=\"7162598/5S7CXZFM\"></cite>). Diplomatic silence on both sides was suboptimal but it was the only compromise available."
   ]
  },
  {
   "cell_type": "markdown",
   "metadata": {
    "tags": [
     "narrative"
    ]
   },
   "source": [
    "The imperative of \"Socialist World\" was political, so it was “committed to publishing only articles advocating a policy with which the national party is in agreement” (Loeb to Usborne, 23 July 1947, and Loeb to Henri Hauck, 31 March 1947, in IISH, SI, Box 454, General Correspondence 1947). Unsurprisingly, \"Socialist World\" asked permission from the SFIO to publish an article on the Monnet plan, asked articles on colonial situations from parties of the colonizer country and articles on South America to an US socialist close to the State Department and the CIA (Loeb to Thomassen, 26 June 1947, in IISH, SI, Box 454, General Correspondence 1947; Loeb to Robert Alexander, 3 July 1947, in IISH, SI, Box 454, General Correspondence 1947). This silence on colonialism is reflected in the corpus. The issue is treated in few articles isolated from the rest of the corpus is clearly, as showed by how the topics “Topic 7: French colonialism” and “Topic 8: British colonialism” have very distinctive terms and have a very skewed distribution. For example, Topic 8 is mostly present in two apologetic articles by the British and an article by Indian socialists. "
   ]
  },
  {
   "cell_type": "code",
   "execution_count": null,
   "metadata": {
    "jdh": {
     "module": "object",
     "object": {
      "source": [
       "figure 4: Topic 7 French colonialism"
      ],
      "type": "image"
     }
    },
    "tags": [
     "figure-4"
    ]
   },
   "outputs": [],
   "source": [
    "words.7<-names(sort(tmResult$terms[7,], decreasing=TRUE))\n",
    "probabilities.7<- sort(tmResult$terms[7,], decreasing=TRUE)\n",
    "print(topic_labels.v[7])\n",
    "wordcloud(words.7, probabilities.7, min.freq = 1,\n",
    "          max.words=100, random.order=FALSE, rot.per=0.3, \n",
    "          colors=brewer.pal(6, \"Dark2\"))"
   ]
  },
  {
   "cell_type": "code",
   "execution_count": null,
   "metadata": {
    "jdh": {
     "module": "object",
     "object": {
      "source": [
       "figure 5: Topic 8 British colonialism"
      ],
      "type": "image"
     }
    },
    "tags": [
     "figure-5"
    ]
   },
   "outputs": [],
   "source": [
    "words.8<-names(sort(tmResult$terms[8,], decreasing=TRUE))\n",
    "probabilities.8<- sort(tmResult$terms[8,], decreasing=TRUE)\n",
    "print(topic_labels.v[8])\n",
    "wordcloud(words.8, probabilities.8, min.freq = 1,\n",
    "          max.words=100, random.order=FALSE, rot.per=0.3, \n",
    "          colors=brewer.pal(6, \"Dark2\"))\n",
    "rownames(theta.mean)<-paste(metadata$ID, metadata$Country, sep=\"\\n\")\n",
    "barplot(sort(theta.mean[,8], decreasing = TRUE),\n",
    "        las=2, xlim=c(0,20), main=topic_labels.v[8], cex.names=0.5,\n",
    "         col=color.documents[order(theta.mean[,8], decreasing = TRUE)])\n",
    "colnames(theta.mean)<- topic_ID.v"
   ]
  },
  {
   "cell_type": "markdown",
   "metadata": {
    "tags": [
     "narrative"
    ]
   },
   "source": [
    "Embarrassment and studied silence is confirmed by archival sources: Swedish and Danish social democrats refused to send articles covering contentious international questions, preferring factual and plain articles on economic data (Alsing Andersen to Thompson, 15 July 1948, and Thompson to Andersen, 22 July 1948, in IISH, SI, Box 455, General correspondence Socialist World 1948). This is confirmed by looking at the composition of the articles they sent to Socialist World. "
   ]
  },
  {
   "cell_type": "code",
   "execution_count": null,
   "metadata": {
    "jdh": {
     "module": "object",
     "object": {
      "source": [
       "figure 6: SW65 Denmark's economic position - SW27 Social Democracy in Sweden since the war"
      ],
      "type": "image"
     }
    },
    "tags": [
     "figure-6"
    ]
   },
   "outputs": [],
   "source": [
    "colnames(theta.mean)<- topic_ID.v\n",
    "barplot(sort(theta.mean[45,], decreasing = TRUE), \n",
    "        las=2, main=paste(document.ID.v[45], \"'\", metadata$Title[45], \"'\"),\n",
    "        legend.text=topic_labels.v[order(theta.mean[45,], decreasing = TRUE)],\n",
    "        col=color.topics[order(theta.mean[45,], decreasing = TRUE)])\n",
    "\n",
    "barplot(sort(theta.mean[20,], decreasing = TRUE), \n",
    "        las=2, main=paste(document.ID.v[20], \"'\", metadata$Title[20], \"'\"),\n",
    "         legend.text=topic_labels.v[order(theta.mean[20,], decreasing = TRUE)],\n",
    "        col=color.topics[order(theta.mean[20,], decreasing = TRUE)])"
   ]
  },
  {
   "cell_type": "markdown",
   "metadata": {
    "tags": [
     "narrative"
    ]
   },
   "source": [
    "An intriguing find is how lopsided references to Marxism are. The token “marx” is the fourth most likely in “Topic 12: French Socialism.” It is also present in “Topic 6: Austria” — “marxist”, “austro_marxist” and “austro_marxists” are the 32nd, 106th and 117th most likely words. In the generalist “Topic 5: Socialism (general)”, “marxism”, “marxist” and “marxists” are respectively the 30th, 40th and 149th likeliest word. Indeed, Marxism was a constituent part of the identity of French socialism. The SFIO pushed for the Socialist International to recognise Marxism as structural component of democratic socialism. However, the intense debate on Marxism between 1949 and 1951 — involving great and small leaders in public and private meetings — led to the Frankfurt Declaration to simply recognise the historical importance of Marxism, without any commitment to its current validity (<cite data-cite=\"undefined\"></cite>, pp. 277–283). Thus, it is not surprising to find “marx” in Topic 5, which is more common in texts with a historical bent.  Interestingly, there are no references to “Marx” or “Marxism” in the texts produced by Eastern European socialists before the Prague Coup. There seems to have been a tacit agreement to pass the issue under silence."
   ]
  },
  {
   "cell_type": "code",
   "execution_count": null,
   "metadata": {
    "jdh": {
     "module": "object",
     "object": {
      "source": [
       "table 2: LABEL TO ADD"
      ],
      "type": "image"
     }
    },
    "tags": [
     "table-2"
    ]
   },
   "outputs": [],
   "source": [
    "top_150terms.df<-as.data.frame(get_terms(topicModel, 150))\n",
    "\n",
    "marx.topic.12<-grep(\"marx\", top_150terms.df[,12])\n",
    "print(paste(topic_labels.v[12], \"– Most likely words\"))\n",
    "cat(paste(grep(\"marx\", top_150terms.df[,12]), top_150terms.df[marx.topic.12, 12]), \n",
    "      sep=\"\\n\")\n",
    "\n",
    "marx.topic.5<-grep(\"marx\", top_150terms.df[,5])\n",
    "print(paste(topic_labels.v[5], \"– Most likely words\"))\n",
    "cat(paste(grep(\"marx\", top_150terms.df[,5]), top_150terms.df[marx.topic.5, 5]), \n",
    "      sep=\"\\n\")\n",
    "\n",
    "marx.topic.6<-grep(\"marx\", top_150terms.df[,6])\n",
    "print(paste(topic_labels.v[6], \"– Most likely words\"))\n",
    "cat(paste(grep(\"marx\", top_150terms.df[,6]), top_150terms.df[marx.topic.6, 6]), \n",
    "      sep=\"\\n\")\n",
    "\n",
    "cat(paste(\"Keywords-in-context: marx* in\", \n",
    "            paste(metadata$ID[10], \"—\", metadata$Title[10], \";\"),\n",
    "            paste(metadata$ID[25], \"—\", metadata$Title[25], \";\"),\n",
    "            paste(metadata$ID[30], \"—\", metadata$Title[30], \";\"),\n",
    "            paste(metadata$ID[34], \"—\", metadata$Title[34], \".\"), sep =\"\\n\"\n",
    "))\n",
    "\n",
    "\n",
    "kwic(tokens(corpus.grammed.df[10,2]), \"marx*\")\n",
    "kwic(tokens(corpus.grammed.df[25,2]), \"marx*\")\n",
    "kwic(tokens(corpus.grammed.df[30,2]), \"marx*\")\n",
    "kwic(tokens(corpus.grammed.df[34,2]), \"marx*\")"
   ]
  },
  {
   "cell_type": "markdown",
   "metadata": {
    "tags": [
     "narrative"
    ]
   },
   "source": [
    "Finally, a distinctive feature of this topic modelling is the existence of at least four topics that could refer to the socialist movement in general. The already mentioned “Topic 5: Socialism (general)” is common to many texts from different nations. The other three — “Topic 4: Socialist parties (marginal 1)”, “Topic 18: Socialist parties (marginal 2)”, “Topic 10: Labour movement” — are limited to a few texts, though not exclusively one nation."
   ]
  },
  {
   "cell_type": "code",
   "execution_count": null,
   "metadata": {
    "jdh": {
     "module": "object",
     "object": {
      "source": [
       "figure 7: Topic 4 Socialist parties (marginal 1)"
      ],
      "type": "image"
     }
    },
    "tags": [
     "figure-7"
    ]
   },
   "outputs": [],
   "source": [
    "words.4<-names(sort(tmResult$terms[4,], decreasing=TRUE))\n",
    "probabilities.4<- sort(tmResult$terms[4,], decreasing=TRUE)\n",
    "print(topic_labels.v[4])\n",
    "wordcloud(words.4, probabilities.4, min.freq = 1,\n",
    "          max.words=100, random.order=FALSE, rot.per=0.3, \n",
    "          colors=brewer.pal(6, \"Dark2\"))"
   ]
  },
  {
   "cell_type": "code",
   "execution_count": null,
   "metadata": {
    "jdh": {
     "module": "object",
     "object": {
      "source": [
       "figure 8: Topic 18 Socialist parties (marginal 2)"
      ],
      "type": "image"
     }
    },
    "tags": [
     "figure-8"
    ]
   },
   "outputs": [],
   "source": [
    "words.18<-names(sort(tmResult$terms[18,], decreasing=TRUE))\n",
    "probabilities.18<- sort(tmResult$terms[18,], decreasing=TRUE)\n",
    "print(topic_labels.v[18])\n",
    "wordcloud(words.18, probabilities.18, min.freq = 1,\n",
    "          max.words=100, random.order=FALSE, rot.per=0.3, \n",
    "          colors=brewer.pal(6, \"Dark2\"))"
   ]
  },
  {
   "cell_type": "code",
   "execution_count": null,
   "metadata": {
    "jdh": {
     "module": "object",
     "object": {
      "source": [
       "figure 9: Topic 10 Labour movement"
      ],
      "type": "image"
     }
    },
    "tags": [
     "figure-9"
    ]
   },
   "outputs": [],
   "source": [
    "words.10<-names(sort(tmResult$terms[10,], decreasing=TRUE))\n",
    "probabilities.10<- sort(tmResult$terms[10,], decreasing=TRUE)\n",
    "print(topic_labels.v[10])\n",
    "wordcloud(words.10, probabilities.10, min.freq = 1,\n",
    "          max.words=100, random.order=FALSE, rot.per=0.3, \n",
    "          colors=brewer.pal(6, \"Dark2\"))"
   ]
  },
  {
   "cell_type": "markdown",
   "metadata": {
    "tags": [
     "narrative"
    ]
   },
   "source": [
    "The reason for the existence of “Topic 10: Labour movement” seems to be its almost exclusive use by two essays by the Norwegian Torolf Elster (ElsterID) and the Finnish Reino Oitinnen (OitinnenID) and an article by the Finnish Vaino Leskinen (SW32) — this is shown both by the distribution of the topic over documents and the presence of the words “Norwegian” and “Finland” among the thirty most common words of the topic. Frustratingly, the choice seems to be simply stylistic: the Norwegian and Finnish socialists consistently refer to their political movement with the term “labour movement”. The term is not so common even in texts by Swedish, Danish or British socialists. This shows the risk of quantitative text analysis of over-emphasising stylistic nuances. On the other hand, this problem should be reduced when working with a larger corpus."
   ]
  },
  {
   "cell_type": "code",
   "execution_count": null,
   "metadata": {
    "jdh": {
     "module": "object",
     "object": {
      "source": [
       "figure 10: Topic 10 Labour movement"
      ],
      "type": "image"
     }
    },
    "tags": [
     "figure-10"
    ]
   },
   "outputs": [],
   "source": [
    "print(topic.overview.df[10,])\n",
    "rownames(theta.mean)<-paste(metadata$ID, metadata$Country, sep=\"\\n\")\n",
    "barplot(sort(theta.mean[,10], decreasing = TRUE),\n",
    "        las=2, xlim=c(0,10), main=topic_labels.v[10], cex.names=0.6,\n",
    "       col=color.documents[order(theta.mean[,10], decreasing = TRUE)])\n",
    "rownames(theta.mean)<-metadata$ID"
   ]
  },
  {
   "cell_type": "markdown",
   "metadata": {
    "tags": [
     "narrative"
    ]
   },
   "source": [
    "More significant is the difference between “Topic 5: Socialism (general)” on one side and “Topic 4: Socialist parties (marginal 1)” and “Topic 18: Socialist parties (marginal 2)” on the other. As I have indicated with my choice of label, what distinguish these two topics is their use by parties at the margin of the international socialist movement and often persecuted."
   ]
  },
  {
   "cell_type": "markdown",
   "metadata": {
    "tags": [
     "narrative"
    ]
   },
   "source": [
    "The existence of this three topic reflects another long-term evolution of the socialist movement. When the labour movement emerged in the nineteenth-century as a protest movement of the oppressed workers, labour activists pursued their goal through a variety of means, including militant industrial action, direct action, organisation of mutual aid, cultural education and other organisations supporting an independent milieu (<cite data-cite=\"undefined\"></cite>, pp. 4–5). As the twentieth century progressed, socialist leaders dropped each option in favour of a political road to power within a system of pluralist liberal democracy. Just after the war, alternative roads to socialism were still under debate, as leftist socialists in Western and Eastern Europe criticised reformism for reducing socialist political activities to parliamentarianism (<cite data-cite=\"undefined\"></cite>, pp. 184–189). However, the Cold War seems to have buried any socialist practice but electoral competition in the Western sense. Political parties and movements served only to formulate policies and generate consensus for elections. Harold Wilson, leader of the Labour Party put it best in 1963; there were three kinds of Socialist parties: the parties in government, the parties with the potential to be in government, and the parties not mature enough  (<cite data-cite=\"undefined\"></cite>, p. 292)."
   ]
  },
  {
   "cell_type": "markdown",
   "metadata": {
    "tags": [
     "narrative"
    ]
   },
   "source": [
    "Within this framework, it is clear that “Topic 5: Socialism (general)” was used by parties operating in a Western liberal democracy to describe their history and evolution, while “Topic 4: Socialist parties (marginal 1)” and “Topic 18: Socialist parties (marginal 2)” belonged to parties operating in a different context. Even the article written by German social democrats using Topic 4 (SW74) is about the Berlin blockade and the threat of communist persecution — a situation outside what a socialist party would normally experience. The topic modelling has also caught that the survey of recent events in \"Notes of Quarter\" SW41 and SW71 contain references to the persecution of Spanish socialists and Eastern European social democrats.  "
   ]
  },
  {
   "cell_type": "code",
   "execution_count": null,
   "metadata": {
    "jdh": {
     "module": "object",
     "object": {
      "source": [
       "figure 11: Topic 4 and topic 18: Socialist parties"
      ],
      "type": "image"
     }
    },
    "tags": [
     "figure-11"
    ]
   },
   "outputs": [],
   "source": [
    "rownames(theta.mean)<-paste(metadata$ID, metadata$Country, sep=\"\\n\")\n",
    "barplot(sort(theta.mean[,4], decreasing = TRUE),\n",
    "        las=2, xlim=c(0,10), main=topic_labels.v[4], cex.names=0.8,\n",
    "       col=color.documents[order(theta.mean[,4], decreasing = TRUE)])\n",
    "barplot(sort(theta.mean[,18], decreasing = TRUE),\n",
    "        las=2, xlim=c(0,10), main=topic_labels.v[18],  cex.names=0.8,\n",
    "       col=color.documents[order(theta.mean[,18], decreasing = TRUE)])\n",
    "rownames(theta.mean)<-metadata$ID"
   ]
  },
  {
   "cell_type": "markdown",
   "metadata": {
    "tags": [
     "narrative"
    ]
   },
   "source": [
    "Even in the journal and book of the Socialist International, the discourse of international socialism pushed to the margin the interests and concerns of socialists outside liberal democracy."
   ]
  },
  {
   "cell_type": "markdown",
   "metadata": {
    "tags": []
   },
   "source": [
    "## Apparent Unity, Latent Division"
   ]
  },
  {
   "cell_type": "markdown",
   "metadata": {
    "tags": [
     "narrative"
    ]
   },
   "source": [
    "Topic modelling has served well as a descriptive and exploratory method, but it can do more. The editorial line of both Socialist World and the book was to push for unity in diversity, but the measurements of topic modelling allow to classify ideological texts and to infer latent divisions within the socialist movement. "
   ]
  },
  {
   "cell_type": "markdown",
   "metadata": {
    "tags": [
     "narrative"
    ]
   },
   "source": [
    "The average usage of each topic has given every document its specific signature, which is a quantifiable measure with which to compare not just individual texts, but clusters of texts. When some topic is overrepresented in the language of a group of people, it can tell us something about the interests and concerns of that political group. Using Euclidean metric, it is possible to calculate the distance between each text and all the other texts of the corpus, with texts thematically closer to each other clustering together. This clustering is represented here through a Dendrogram."
   ]
  },
  {
   "cell_type": "code",
   "execution_count": null,
   "metadata": {
    "jdh": {
     "module": "object",
     "object": {
      "source": [
       "figure 12: Texts of the Socialist International and cluster Dendrogram"
      ],
      "type": "image"
     }
    },
    "tags": [
     "figure-12"
    ]
   },
   "outputs": [],
   "source": [
    "#Dendrogram\n",
    "\n",
    "  corpus.SI.dm<-dist(theta.mean)\n",
    "  SI.cluster<-hclust(corpus.SI.dm)\n",
    "  SI.cluster$labels<-paste(metadata$ID, metadata$Country)\n",
    "plot(SI.cluster, cex=0.5, main=c(\"Texts of the Socialist International\", \"\\n\", \"Cluster Dendrogram\"))\n",
    "\n",
    "\n"
   ]
  },
  {
   "cell_type": "markdown",
   "metadata": {
    "tags": [
     "narrative"
    ]
   },
   "source": [
    "The first observation is that the national signal is rather powerful. Documents from the same nation often end up in the same tree branch. This could mean either a similarity of interests or a shared vocabulary to speak about events in the same nation. For other branches, the thematic signal is stronger. To emphasise this clustering, ten boxes were drawn to emphasise ten branches of the Dendrogram. "
   ]
  },
  {
   "cell_type": "code",
   "execution_count": null,
   "metadata": {
    "jdh": {
     "module": "object",
     "object": {
      "source": [
       "figure 13: Texts of the Socialist International and cluster Dendrogram"
      ],
      "type": "image"
     }
    },
    "tags": [
     "figure-13"
    ]
   },
   "outputs": [],
   "source": [
    "SI.cluster$labels<-paste(metadata$ID, metadata$Country)\n",
    "plot(SI.cluster, cex=0.5, main=c(\"Texts of the Socialist International\", \"\\n\", \"Cluster Dendrogram\"))\n",
    "rect.hclust(SI.cluster, k=10)\n"
   ]
  },
  {
   "cell_type": "markdown",
   "metadata": {
    "tags": [
     "narrative"
    ]
   },
   "source": [
    "It is clear that some documents are even more isolated from the rest than expected. For example, SW67 is atypical for a socialist text, describing the problem of the military occupation of the Western zones of Germany. The national histories of Swedish and French socialism — SeverinID and TexcierID — are also isolated from the rest. Other branches have clearer thematic component."
   ]
  },
  {
   "cell_type": "markdown",
   "metadata": {
    "tags": [
     "narrative"
    ]
   },
   "source": [
    "The second box includes articles from \"Socialist World\" describing the economic situation in the country of the writer. Socialist parties from many different nations are represented."
   ]
  },
  {
   "cell_type": "code",
   "execution_count": null,
   "metadata": {
    "jdh": {
     "module": "object",
     "object": {
      "source": [
       "figure 14: Texts of the Socialist International - Economic Survey"
      ],
      "type": "image"
     }
    },
    "tags": [
     "figure-14"
    ]
   },
   "outputs": [],
   "source": [
    "SI.cluster$labels<-paste(metadata$ID, \"\\n\", metadata$Country)\n",
    "SI.cluster.branch<-as.dendrogram(SI.cluster)\n",
    "plot(SI.cluster.branch[[1]][[2]], cex=0.2, \n",
    "       main=c(\"Texts of the Socialist International\", \"\\n\", \"Economic Survey\"))\n",
    "\n",
    "print(metadata[45,])\n",
    "print(metadata[55,])\n",
    "print(metadata[25,])\n",
    "print(metadata[32,])\n",
    "print(metadata[19,])\n",
    "print(metadata[32,])\n",
    "print(metadata[54,])"
   ]
  },
  {
   "cell_type": "markdown",
   "metadata": {
    "tags": [
     "narrative"
    ]
   },
   "source": [
    "The fourth box includes articles from Socialist World describing nationalisation, a policy that was being implemented, though in different forms, both in Western and Eastern Europe. Socialists were greatly interested in debating the issue but also to show off their success in socialising the economy."
   ]
  },
  {
   "cell_type": "code",
   "execution_count": null,
   "metadata": {
    "jdh": {
     "module": "object",
     "object": {
      "source": [
       "figure 15: Texts of the Socialist International - Nationalisations"
      ],
      "type": "image"
     }
    },
    "tags": [
     "figure-15"
    ]
   },
   "outputs": [],
   "source": [
    "plot(SI.cluster.branch[[2]][[1]][[2]], \n",
    "       main=c(\"Texts of the Socialist International\", \"\\n\", \"Nationalisations\"))\n",
    "print(metadata[37,])\n",
    "print(metadata[43,])\n",
    "print(metadata[10,])\n",
    "print(metadata[34,])"
   ]
  },
  {
   "cell_type": "markdown",
   "metadata": {
    "tags": [
     "narrative"
    ]
   },
   "source": [
    "The fifth box simply includes the articles describing British colonialism."
   ]
  },
  {
   "cell_type": "code",
   "execution_count": null,
   "metadata": {
    "jdh": {
     "module": "object",
     "object": {
      "source": [
       "figure 16: Texts of the Socialist International - Colonialism"
      ],
      "type": "image"
     }
    },
    "tags": [
     "figure-16"
    ]
   },
   "outputs": [],
   "source": [
    "plot(SI.cluster.branch[[2]][[2]][[1]], \n",
    "       main=c(\"Texts of the Socialist International\", \"\\n\", \"Colonialism\"))\n",
    "print(metadata[27,])\n",
    "print(metadata[50,])"
   ]
  },
  {
   "cell_type": "markdown",
   "metadata": {
    "tags": [
     "narrative"
    ]
   },
   "source": [
    "Finally, the ninth box is about international cooperation. Not only was this the core business of socialist internationalism, but the postwar period offered many opportunities to envision different forms of cooperation — such as European integration — or regret the mutual hostility generated by the Cold War."
   ]
  },
  {
   "cell_type": "code",
   "execution_count": null,
   "metadata": {
    "jdh": {
     "module": "object",
     "object": {
      "source": [
       "figure 17: Texts of the Socialist International - International Cooperation"
      ],
      "type": "image"
     }
    },
    "tags": [
     "figure-17"
    ]
   },
   "outputs": [],
   "source": [
    "plot(SI.cluster.branch[[2]][[2]][[2]][[2]][[1]], cex=0.2, \n",
    "     main=c(\"Texts of the Socialist International\", \"\\n\", \"International Cooperation\"))\n",
    "print(metadata[42,])\n",
    "print(metadata[31,])\n",
    "print(metadata[15,])\n",
    "print(metadata[30,])"
   ]
  },
  {
   "cell_type": "code",
   "execution_count": null,
   "metadata": {
    "jdh": {
     "module": "object",
     "object": {
      "source": [
       "figure 18: LABEL TO ADD"
      ],
      "type": "image"
     }
    },
    "tags": [
     "figure-18"
    ]
   },
   "outputs": [],
   "source": [
    "SI.cluster$labels<-paste(metadata$ID)\n",
    "SI.cluster.branch.2<-as.dendrogram(SI.cluster)\n",
    "plot(SI.cluster.branch.2[[2]][[2]][[2]])  "
   ]
  },
  {
   "cell_type": "markdown",
   "metadata": {
    "tags": [
     "narrative"
    ]
   },
   "source": [
    "However, the great majority of article are clustered in the eighth box, showing the difficulty of parsing signal from rumour. "
   ]
  },
  {
   "cell_type": "markdown",
   "metadata": {
    "tags": [
     "narrative"
    ]
   },
   "source": [
    "The clustering has shown issues concerning parties across geographical and ideological divisions. However, thematic measurements can also be shown to match political divisions inside the Socialist International."
   ]
  },
  {
   "cell_type": "markdown",
   "metadata": {
    "tags": [
     "narrative"
    ]
   },
   "source": [
    "Costa argued that in the early postwar years there was a discernible clustering of the parties of the socialist movement around three tendencies: Planners, Federalists and Leftists (<cite data-cite=\"undefined\"></cite>, pp. 148–151). Socialist parties classified as planners had a strong following in the working-class, which granted them a position of electoral strength. Since they could govern alone or form coalitions from a position of strength, their political strategy aimed at exercising state power in the form of controlling the economic levers, building a generous welfare state, enacting social legislation. As a consequence of their success as national parties, they were suspicious of international commitment that could reduce their freedom of manoeuvre. This group included the British Labour Party, which with the Attlee government had provided a successful model of socialist reforms under democracy, and the Nordic parties. Federalists operated in a political system that was more fragmented due to religious and social divisions. In those countries, socialists were a political force among many that had to form centrist governments with Christian democrats and bourgeois parties. Coalition limited their ability to realise a fully social democratic programme — especially when coalitions were born not out of policy agreement but to keep extremists out — so they were more open to give up on the nation state to international organisations. This group included parties of various degrees of success, from the Dutch Labour Party, to the German SPD, to Belgian and French socialists, to Italian social democrats. The Austrian Socialist Party straddled the two blocs, since the international situation of Austria allowed for more planning and nationalisation than what would have been possible given the strength of conservative forces. Leftists emphasised the discontinuity between socialism and liberal democracy, the radical transformation of private capitalism into a system under public control and a strategic alliance with the communists. Early, they were represented in the International Socialist Conference by the Italian Socialist Party and the Eastern European socialists, but after the Prague Coup they were all excluded. Finally, the Socialist International included other parties, such as socialist exiles from Communist countries or Franco Spain or extra-European parties. While these parties often were important symbols to have, their actual influence on the running of the Socialist International was limited, given that social democracy required the a Western European and liberal context. For this reason, I have classified them as “marginal”. "
   ]
  },
  {
   "cell_type": "markdown",
   "metadata": {
    "tags": [
     "narrative"
    ]
   },
   "source": [
    "I have divided the articles and essays of the Socialist International according to the four categories to which the parties belonged — plus Editorial, since the people hired directly by the international organisation did not speak for a member party. I excluded the Austrian socialists because of their position as a liminal case. The results show the general trends of international socialism. "
   ]
  },
  {
   "cell_type": "code",
   "execution_count": null,
   "metadata": {
    "jdh": {
     "module": "object",
     "object": {
      "source": [
       "figure 19: Topic proportion per 5 groupings"
      ],
      "type": "image"
     }
    },
    "tags": [
     "figure-19"
    ]
   },
   "outputs": [],
   "source": [
    "#Topic proportion per 5 groupings\n",
    "\n",
    "colnames(theta.mean)<- topic_labels.v\n",
    "\n",
    "metadata$NewBloc1<-metadata$Bloc\n",
    "  \n",
    "metadata[,8]<-sub(\"Nordic\", \"Planners\", metadata$NewBloc1)  \n",
    "metadata[,8]<-sub(\"British\", \"Planners\", metadata$NewBloc1)\n",
    "metadata[,8]<-sub(\"Continental\", \"Federalist\", metadata$NewBloc1)\n",
    "\n",
    "\n",
    "austrian<-c(5,31,43,54)\n",
    "\n",
    "\n",
    "topic_proportion_per_new_blocs1 <- aggregate(theta.mean[-austrian,], \n",
    "                                           by = list(Blocs = metadata$NewBloc1[-austrian]), \n",
    "                                               mean)\n",
    "vizDataFrame <- data.table::melt(topic_proportion_per_new_blocs1, \n",
    "                                 id.vars = \"Blocs\")\n",
    "\n",
    "ggplot(vizDataFrame, aes(x=Blocs, y=value, fill=variable)) + \n",
    "  geom_bar(stat = \"identity\") + ylab(\"proportion\") +\n",
    "scale_fill_manual(values = paste0(color.topics, \"FF\"), name = \"Topics\") +\n",
    "  theme(axis.text.x = element_text(angle = 90, hjust = 1))"
   ]
  },
  {
   "cell_type": "markdown",
   "metadata": {
    "tags": [
     "narrative"
    ]
   },
   "source": [
    "Besides the Topics more specific to some nations, which we have discussed above, the blocs of parties are clearly defined by their language. These measurements confirm that “Topic 4: Socialist parties (marginal 1)” and “Topic 18: Socialist parties (marginal 2)” are most common in the marginal group — 10% and 12% respectively. “Topic 8: Socialist parties (marginal 2)” is also well represented (14%) in the articles by the editors, who often reported on socialist persecution. "
   ]
  },
  {
   "cell_type": "markdown",
   "metadata": {
    "tags": [
     "narrative"
    ]
   },
   "source": [
    "The real difference in topic usage is visible in those topics that are not nation-specific. The group of socialists Costa call Planners have deserved their name. Economic issues are a huge part of their language, as shown by “Topic 13: Economy” — 22% —, “Topic 15: Ideological development and planning” — 12% —, “Topic 14: British socialism and nationalisation” — 6%. For the Federalist bloc, the results are respectively 9%, 5% and 2%. However, usage of “Topic 17: Industry and mixed economy” is more pronounced among Federalists than Planners — 7% and 4% respectively. "
   ]
  },
  {
   "cell_type": "markdown",
   "metadata": {
    "tags": [
     "narrative"
    ]
   },
   "source": [
    "Federalists also deserve their names, given their interest in “Topic 3: International Affairs” — 17% — and “Topic 1: Europe and Federalism” — 6%. The corresponding values for the Planners bloc are 6% and 2%. This is intentional: as we know, Danish and Swedish social democrats preferred not to talk about foreign affairs in \"Socialist World\". "
   ]
  },
  {
   "cell_type": "markdown",
   "metadata": {
    "tags": [
     "narrative"
    ]
   },
   "source": [
    "This results seem to confirm the basic picture of Planners being more concerned with economic factors and the possibility of shaping them at national level and Federalists being more preoccupied with the limitations and potential of international factors. This is of course just a general trend."
   ]
  },
  {
   "cell_type": "markdown",
   "metadata": {
    "tags": [
     "narrative"
    ]
   },
   "source": [
    "Another surprising result is that the Leftist Bloc is as interested as the Federalists in “Topic 3: International Affairs” — 13% to 17% —, but Leftists are closer to Planners in the use of “Topic 13: Economy” — 23% to 22%. This can be explained in two ways. First, as long as Leftists co-existed with anti-communist socialists in the International Socialist Conference, they preferred to concentrate on their achievements in domestic politics, which could reinforce their socialist credentials. Their caginess was not different from the Danish and Swedish social democrats. Thus, both Nordic and British socialists on one side and Eastern European socialists on the other avoided the contentious issue of Marxism. However, since they also wrote often about international affairs, there is a second, more important factor. "
   ]
  },
  {
   "cell_type": "markdown",
   "metadata": {
    "tags": [
     "narrative"
    ]
   },
   "source": [
    "Marxism was a major issue of the debate in international socialism. The International Socialist Conference in Copenhagen (1-3 June 1950) held a debate on the ideological basis of socialism, discussing the role of Marxism. French socialist leader Guy Mollet argued that socialism needed Marxism to have a distinct identity, accusing Nordic social democrats of retreating into liberalism. The Swedish Prime Minister Tage Erlander and Danish socialist Alsing Andersen rejected this characterisation: Nordic socialists still supported economic democracy and public control over economic decisions (IISH, SI, 54, Circular 155/50, Report of the International Socialist Conference at Copenhagen, 1-3 June, 1950, 62-63). Public control over the economy was a precondition to the actual freedom of the individual: positive freedom required active economic intervention to go beyond the negative freedom of liberals. As the theoretician of Swedish Social Democracy Ernst Wigforss said: “collective measures serve to confer on the individuals greater opportunities to follow their own aptitudes and to develop their own capacities” (SeverinID, 240-41). "
   ]
  },
  {
   "cell_type": "markdown",
   "metadata": {
    "tags": [
     "narrative"
    ]
   },
   "source": [
    "This background explains the lopsided frequency of tokens referring to Marxism, as mentioned above. French socialists were most interested to make references to Marxism, which was a constituent part of their party identity they were unwilling to drop given the competition with communists. Conversely, Nordic and British socialists did not mention Marxism much, but they stressed the importance of redistribution of income and public control of the economy using different conceptual frameworks. "
   ]
  },
  {
   "cell_type": "markdown",
   "metadata": {
    "tags": [
     "narrative"
    ]
   },
   "source": [
    "This centrality of economic concerns in their ideology actually matched the language of Leftist socialists, who until 1948 were willing to stress the issue of economic control and redistribution without explicit references to Marxism. Leftist socialists actually felt closer to the British Labour Party than the explicitly Marxist SFIO. Indeed, the Labour Party stood out from other Western European socialists on the Continent for its strong working-class base and the radical social programme of the Attlee government and engendered fascination and admiration even among Leftist socialists and communists before 1948 (<cite data-cite=\"undefined\"></cite>, p. 58). Angelica Balabanoff — once General Secretary of the Comintern — even said that the practical policies of the Labour Government increasing the purchasing power of the poor were a better evidence of Marxism than theoretical analysis."
   ]
  },
  {
   "cell_type": "markdown",
   "metadata": {
    "tags": []
   },
   "source": [
    "## Conclusion"
   ]
  },
  {
   "cell_type": "markdown",
   "metadata": {
    "tags": [
     "narrative"
    ]
   },
   "source": [
    "In his autobiography, Denis Healey recounts his period as International Secretary of the Labour Party in the years of the reconstruction of the socialist family: “Many of the difficulties that troubled our relations with the continental socialists arose from differences in mental and linguistic patterns which were not central to the issue at stake” (<cite data-cite=\"7162598/N46J2RM7\"></cite>, p. 93)."
   ]
  },
  {
   "cell_type": "markdown",
   "metadata": {
    "tags": [
     "narrative"
    ]
   },
   "source": [
    "While it is an intriguing observation, saying that linguistic and cultural misunderstandings were at the root of all dissentions is rather disingenuous. I would argue that the opposite was true. The interests and concerns of the parties, were disguised as differences of temperament and national character in order to preserve unity. The political struggle is a battle over meaning: to win it, it is necessary to have the preferred meaning of the shared words accepted by the electorate. “What we must therefore do is to study the production of interest, identification, grievance and aspiration within political languages themselves”(<cite data-cite=\"undefined\"></cite>, p. 22)."
   ]
  },
  {
   "cell_type": "markdown",
   "metadata": {
    "tags": [
     "narrative"
    ]
   },
   "source": [
    "In 1951, Federalists and Planners agreed on a shared definition of socialism in the form of the Frankfurt Declaration. This was an important step in defining a socialist identity and restore unity, but it did not cancel other debates on the meaning and direction of socialism. One side identified socialism with the managed economy inside the nation state, the other with a supranational solution beyond the nation state (which was first identified with the Third Force and later with the European Union). This was a difference of emphasis rather than radical incompatibility, but disagreement over European integration would divide the European socialist movement until the end of the Cold War."
   ]
  },
  {
   "cell_type": "markdown",
   "metadata": {
    "tags": [
     "narrative"
    ]
   },
   "source": [
    "Topic Modelling has thus served to confirm two key hypotheses for socialist internationalism in the Cold War era: the marginalisation of socialists operating outside Western European liberal democracies and the division between Planners and Federalists. Confirmation of previous hypotheses rather than creating new ones is to be expected and proves the validity of the method, but it makes the use of quantitative text analysis in history less revolutionary than in other fields. On the other hand, topic modelling performed very well as an exploratory tool to describe and automatically classify the content of a large collection of documents. It is fair to assume that both testing hypotheses and data exploration would perform even better with a larger corpus."
   ]
  },
  {
   "cell_type": "markdown",
   "metadata": {
    "tags": [
     "narrative"
    ]
   },
   "source": [
    "This research has laid some ground for further analysis of political texts from the era of mass politics. I have stressed the importance of pre-processing to show that political texts in general and social democratic texts in particular had their own rules, which require a specific treatment. The choice of lemmatization could be particularly controversial and require further reflection. Furthermore, social democratic texts require a specific list of ngrams before being analysed."
   ]
  },
  {
   "cell_type": "markdown",
   "metadata": {
    "tags": [
     "narrative"
    ]
   },
   "source": [
    "And yet, while all these issues involve theoretical reflection from traditional historians and experts of digital humanities, the main problem in developing quantitative text analysis for the Cold War era is exquisitely practical. Unlike political texts until the nineteenth century — available in digitised form on archive.org or Google Books — or recent political texts produced directly as digital, the mass of political documents from the mid-twentieth century does not exist in the digital form. Books, conference reports, party newspapers and journals still exist only on printed paper. The main exception is parliamentary debates, which unsurprisingly receive the lion’s share of attention from digital historians. We cannot even expect a rapid digitisation both for the cost involved and the issue of copyright. "
   ]
  },
  {
   "cell_type": "markdown",
   "metadata": {
    "tags": [
     "narrative"
    ]
   },
   "source": [
    "What made this article possible was me having personally digitised the entire corpus. Its limitation — its small dimension — is also what made this analysis possible. We cannot expect much digital history in this area of history unless external funds are secured to produce databases for both traditional and digital historians."
   ]
  },
  {
   "cell_type": "markdown",
   "metadata": {
    "tags": []
   },
   "source": [
    "## Appendix 1: Corpus composition"
   ]
  },
  {
   "cell_type": "code",
   "execution_count": null,
   "metadata": {},
   "outputs": [],
   "source": [
    "SW.Articles<-read.csv(file=\"Socialist World, List of Articles.csv\", sep=\";\")\n",
    "ID.Essays<-read.csv(file=\"Ideological Development, Essays.csv\", sep=\";\")"
   ]
  },
  {
   "cell_type": "markdown",
   "metadata": {},
   "source": [
    "List of all the articles published on \"Socialist World\" — some were not included in the analysis. Editorial staff made up of Edith Loeb (German) and Edward Thompson (British)."
   ]
  },
  {
   "cell_type": "code",
   "execution_count": null,
   "metadata": {
    "jdh": {
     "module": "object",
     "object": {
      "source": [
       "table 3: List of all the articles published on 'Socialist World' — some were not included in the analysis. Editorial staff made up of Edith Loeb (German) and Edward Thompson (British)."
      ],
      "type": "image"
     }
    },
    "tags": [
     "table-3"
    ]
   },
   "outputs": [],
   "source": [
    "SW.Articles"
   ]
  },
  {
   "cell_type": "markdown",
   "metadata": {},
   "source": [
    "List of all the essays that were supposed to become the book \"Ideological Development of Democratic Socialism\". The original essays were published in the internal bulletin of the Socialist International — \"Socialist International Information\" — and later translated into German and Italian."
   ]
  },
  {
   "cell_type": "code",
   "execution_count": null,
   "metadata": {
    "jdh": {
     "module": "object",
     "object": {
      "source": [
       "table 4: List of all the essays that were supposed to become the book 'Ideological Development of Democratic Socialism'. The original essays were published in the internal bulletin of the Socialist International — 'Socialist International Information' — and later translated into German and Italian."
      ],
      "type": "image"
     }
    },
    "tags": [
     "table-4"
    ]
   },
   "outputs": [],
   "source": [
    "ID.Essays"
   ]
  },
  {
   "cell_type": "markdown",
   "metadata": {
    "tags": []
   },
   "source": [
    "## Appendix 2: Composition and distribution of 18 Topics"
   ]
  },
  {
   "cell_type": "code",
   "execution_count": null,
   "metadata": {
    "jdh": {
     "module": "object",
     "object": {
      "source": [
       "figure 20: Wordcloud per topic"
      ],
      "type": "image"
     }
    },
    "tags": [
     "figure-20"
    ]
   },
   "outputs": [],
   "source": [
    "#Wordcloud per topic \n",
    "\n",
    "for(i in 1:number.of.topics){\n",
    "wordcloud(names(sort(tmResult$terms[i,], decreasing=TRUE)), \n",
    "          sort(tmResult$terms[i,], decreasing=TRUE), min.freq = 1,\n",
    "          max.words=50, random.order=FALSE, rot.per=0.3, \n",
    "          colors=brewer.pal(6, \"Dark2\"))}\n",
    "\n"
   ]
  },
  {
   "cell_type": "code",
   "execution_count": null,
   "metadata": {
    "jdh": {
     "module": "object",
     "object": {
      "source": [
       "figure 21: Topic"
      ],
      "type": "image"
     }
    },
    "tags": [
     "figure-21"
    ]
   },
   "outputs": [],
   "source": [
    "rownames(theta.mean)<-paste(metadata$ID, metadata$Country, sep=\"\\n\")\n",
    "for(i in 1:number.of.topics){\n",
    "barplot(sort(theta.mean[,i], decreasing = TRUE),\n",
    "        las=2, main=topic_labels.v[i], cex.names=0.5,\n",
    "       col=color.documents[order(theta.mean[,i], decreasing = TRUE)])}"
   ]
  },
  {
   "cell_type": "markdown",
   "metadata": {
    "tags": [
     "hidden"
    ]
   },
   "source": [
    "## Bibliography"
   ]
  },
  {
   "cell_type": "markdown",
   "metadata": {
    "tags": [
     "hidden"
    ]
   },
   "source": [
    "<div class=\"cite2c-biblio\"></div>"
   ]
  }
 ],
 "metadata": {
  "celltoolbar": "Edit Metadata",
  "cite2c": {
   "citations": {
    "7162598/36LLMGL6": {
     "DOI": "10.1080/01916599.2019.1703860",
     "URL": "https://doi.org/10.1080/01916599.2019.1703860",
     "abstract": "This article explores national dimensions of transnational interaction between the French Socialist Party (SFIO) and the German Social Democratic Party (SPD) in the 1940s–1950s within a comparative framework. Doing so allows us to uncover why the French and German parties retained intensive transnational contacts with one another despite their disappointments with postwar socialist internationalism. The SFIO and SPD were eager to put a socialist stamp on reconstruction, European integration, and French-German relations. The article shows why transnational engagement with their cross-Rhine colleagues appeared the most promising path to do so. Despite lengthy conflicts on Cold War politics, the international politics of reconstruction, and, later, decolonization and the Algerian and Suez Wars, the SFIO and SPD successfully compartmentalized their differences by establishing an autonomous track for transnational relations in European parliamentary assemblies. French-German cooperation on matters of European integration yielded the period’s greatest transnational successes, including the establishment of the Congress of Socialist Parties of the European Communities. In the early 1960s, the two-track nature of French-German inter-socialist relations endured but structural factors eroded the balance of power between French and Germans needed to sustain the mutual satisfaction with transnational cooperation that had peaked in the mid-1950s.",
     "accessed": {
      "day": 18,
      "month": 8,
      "year": 2021
     },
     "author": [
      {
       "family": "Shaev",
       "given": "Brian"
      }
     ],
     "container-title": "History of European Ideas",
     "id": "7162598/36LLMGL6",
     "issue": "1",
     "issued": {
      "day": 2,
      "month": 1,
      "year": 2020
     },
     "note": "Publisher: Routledge\n_eprint: https://doi.org/10.1080/01916599.2019.1703860",
     "page": "41-58",
     "page-first": "41",
     "shortTitle": "Nationalism, transnationalism and European socialism in the 1950s",
     "title": "Nationalism, transnationalism and European socialism in the 1950s: a comparison of the French and German cases",
     "title-short": "Nationalism, transnationalism and European socialism in the 1950s",
     "type": "article-journal",
     "volume": "46"
    },
    "7162598/53LDE5IG": {
     "ISBN": "978-1-108-63978-1 978-1-108-42508-7 978-1-108-44117-9",
     "URL": "https://www.cambridge.org/core/product/identifier/9781108639781/type/book",
     "accessed": {
      "day": 19,
      "month": 8,
      "year": 2021
     },
     "author": [
      {
       "family": "De Graaf",
       "given": "Jan"
      }
     ],
     "event-place": "Cambridge",
     "id": "7162598/53LDE5IG",
     "issued": {
      "year": 2019
     },
     "note": "DOI: 10.1017/9781108639781",
     "publisher": "Cambridge University Press",
     "publisher-place": "Cambridge",
     "shortTitle": "Socialism across the Iron Curtain",
     "title": "Socialism across the Iron Curtain: Socialist Parties in East and West and the Reconstruction of Europe after 1945",
     "title-short": "Socialism across the Iron Curtain",
     "type": "book"
    },
    "7162598/5S7CXZFM": {
     "DOI": "10.1215/00161071-4254619",
     "URL": "https://read.dukeupress.edu/french-historical-studies/article/41/1/63/133066/The-Algerian-War-European-Integration-and-the",
     "abstract": "Abstract\n            This article takes up Todd Shepard's call to “write together the history of the Algerian War and European integration” by examining the French Socialist Party. Socialist internationalism, built around an analysis of European history, abhorred nationalism and exalted supranational organization. Its principles were durable and firm. Socialist visions for French colonies, on the other hand, were fluid. The asymmetry of the party's European and colonial visions encouraged socialist leaders to apply their European doctrine to France's colonies during the Algerian War. The war split socialists who favored the European communities into multiple parties, in which they cooperated with allies who did not support European integration. French socialist internationalism became a casualty of the Algerian War. In the decolonization of the French Socialist Party, support for European integration declined and internationalism largely vanished as a guiding principle of French socialism.\n            Cet article répond à l'appel de Todd Shepard à « écrire à la fois l'histoire de la guerre d'Algérie et l'histoire de l'intégration européenne » en examinant le Parti socialiste. L'internationalisme socialiste, basé sur une analyse de l'histoire européenne, dénonça le nationalisme et exalta le supranationalisme. Ses principes furent durables et fermes. Par contre, sa politique concernant les colonies fut souple. L'asymétrie entre les visions européenne et coloniale du parti encouragea l'application de la doctrine européenne aux colonies françaises pendant la guerre d'Algérie. La guerre divisa les partisans socialistes des communautés européennes en multiples partis, dans lesquels ils coopérèrent avec des alliés qui ne soutenaient pas l'intégration européenne. L'internationalisme socialiste français fut une victime de la guerre d'Algérie. Dans la décolonisation du socialisme français, le soutien à l'intégration européenne recula et l'internationalisme disparut comme principe directeur.",
     "accessed": {
      "day": 30,
      "month": 8,
      "year": 2021
     },
     "author": [
      {
       "family": "Shaev",
       "given": "Brian"
      }
     ],
     "container-title": "French Historical Studies",
     "id": "7162598/5S7CXZFM",
     "issue": "1",
     "issued": {
      "day": 1,
      "month": 2,
      "year": 2018
     },
     "language": "en",
     "page": "63-94",
     "page-first": "63",
     "title": "The Algerian War, European Integration, and the Decolonization of French Socialism",
     "type": "article-journal",
     "volume": "41"
    },
    "7162598/78SZHBC6": {
     "URL": "https://www.orwellfoundation.com/the-orwell-foundation/orwell/essays-and-other-works/politics-and-the-english-language/",
     "accessed": {
      "day": 18,
      "month": 8,
      "year": 2021
     },
     "author": [
      {
       "family": "Orwell",
       "given": "George"
      }
     ],
     "container-title": "Horizon",
     "id": "7162598/78SZHBC6",
     "issued": {
      "month": 4,
      "year": 1946
     },
     "language": "en-GB",
     "title": "Politics and the English Language | The Orwell Foundation",
     "type": "article-journal"
    },
    "7162598/7QX9SMK9": {
     "ISBN": "978-0-19-964104-8",
     "author": [
      {
       "family": "Imlay",
       "given": "Talbot C."
      }
     ],
     "edition": "First edition",
     "event-place": "Oxford, United Kingdom",
     "id": "7162598/7QX9SMK9",
     "issued": {
      "year": 2018
     },
     "number-of-pages": "480",
     "publisher": "Oxford University Press",
     "publisher-place": "Oxford, United Kingdom",
     "shortTitle": "The Practice of Socialist Internationalism",
     "title": "The Practice of Socialist Internationalism: European Socialists and International Politics, 1914-1960",
     "title-short": "The Practice of Socialist Internationalism",
     "type": "book"
    },
    "7162598/7VTLT2M8": {
     "URL": "https://research.aalto.fi/en/publications/historizing-topic-models-a-distant-reading-of-topic-modeling-text",
     "accessed": {
      "day": 12,
      "month": 6,
      "year": 2021
     },
     "author": [
      {
       "family": "Fridlund",
       "given": "Mats"
      },
      {
       "family": "Brauer",
       "given": "René"
      }
     ],
     "container-title": "Cultural Research in the Context of \"Digital Humanities”, Proceedings of International Conference 3-5 October 2013, St Petersburg",
     "id": "7162598/7VTLT2M8",
     "issued": {
      "year": 2013
     },
     "language": "English",
     "page": "152-63",
     "page-first": "152",
     "shortTitle": "Historizing topic models",
     "title": "Historizing topic models: A distant reading of topic modeling texts within historical studies",
     "title-short": "Historizing topic models",
     "type": "article-journal"
    },
    "7162598/8YVYLTUE": {
     "DOI": "10.1353/tech.2019.0000",
     "URL": "https://muse.jhu.edu/article/719944",
     "abstract": ", abstract:, Can \"distant reading\" and digital tools enhance the history of technology by revealing hitherto undetected patterns in the record? Using the parliamentary debates of Britain in the nineteenth century, this essay revisits the history of infrastructure in the British empire, asking how tools compare with secondary sources. The author applies topic modeling and dynamic topic modeling to synthesize the historical record, and finds that the results largely match the known turning points, key players, and technologies in the history of British infrastructure. In several cases, however, digital investigation draws the researcher to new results. The domains where digital tools unveil new patterns include: the improvement of the River Shannon, the alignment of political parties with particular technologies, and the chronology of building public spaces in Britain's imperial capitals. The experiment documented here validates topic models as a source for periodizing technology over time.",
     "accessed": {
      "day": 24,
      "month": 8,
      "year": 2021
     },
     "author": [
      {
       "family": "Guldi",
       "given": "Jo"
      }
     ],
     "container-title": "Technology and Culture",
     "id": "7162598/8YVYLTUE",
     "issue": "1",
     "issued": {
      "year": 2019
     },
     "note": "Publisher: Johns Hopkins University Press",
     "page": "1-33",
     "page-first": "1",
     "shortTitle": "Parliament's Debates about Infrastructure",
     "title": "Parliament's Debates about Infrastructure: An Exercise in Using Dynamic Topic Models to Synthesize Historical Change",
     "title-short": "Parliament's Debates about Infrastructure",
     "type": "article-journal",
     "volume": "60"
    },
    "7162598/92U8GYK8": {
     "DOI": "10.1017/pan.2016.7",
     "URL": "https://www.cambridge.org/core/product/identifier/S1047198716000073/type/journal_article",
     "abstract": "This study analyzes the political agenda of the European Parliament (EP) plenary, how it has evolved over time, and the manner in which Members of the European Parliament (MEPs) have reacted to external and internal stimuli when making plenary speeches. To unveil the plenary agenda and detect latent themes in legislative speeches over time, MEP speech content is analyzed using a new dynamic topic modeling method based on two layers of Non-negative Matrix Factorization (NMF). This method is applied to a new corpus of all English language legislative speeches in the EP plenary from the period 1999 to 2014. Our findings suggest that two-layer NMF is a valuable alternative to existing dynamic topic modeling approaches found in the literature, and can unveil niche topics and associated vocabularies not captured by existing methods. Substantively, our findings suggest that the political agenda of the EP evolves significantly over time and reacts to exogenous events such as EU Treaty referenda and the emergence of the Euro Crisis. MEP contributions to the plenary agenda are also found to be impacted upon by voting behavior and the committee structure of the Parliament.",
     "accessed": {
      "day": 24,
      "month": 8,
      "year": 2021
     },
     "author": [
      {
       "family": "Greene",
       "given": "Derek"
      },
      {
       "family": "Cross",
       "given": "James P."
      }
     ],
     "container-title": "Political Analysis",
     "container-title-short": "Polit. Anal.",
     "id": "7162598/92U8GYK8",
     "issue": "1",
     "issued": {
      "year": 2017
     },
     "journalAbbreviation": "Polit. Anal.",
     "language": "en",
     "page": "77-94",
     "page-first": "77",
     "title": "Exploring the Political Agenda of the European Parliament Using a Dynamic Topic Modeling Approach",
     "type": "article-journal",
     "volume": "25"
    },
    "7162598/A9X67BLL": {
     "DOI": "10.1017/S0020859021000250",
     "URL": "http://www.cambridge.org/core/journals/international-review-of-social-history/article/defining-asian-socialism-the-asian-socialist-conference-asian-socialists-and-the-limits-of-a-global-socialist-movement-in-1953/C4EF4E3F636464212E96EFD7DA7701C5",
     "abstract": "The article examines the debates at the Asian Socialist Conference's (ASC) inaugural gathering in Rangoon in January 1953, using a variety of sources, including the minutes of the conference meetings found in the Swedish Social Democratic Party archives. The focus is on the efforts of Asian socialists to define Asian socialism in terms of three broad subjects: international politics; domestic politics; and economic politics. Throughout, particular attention is accorded to the role played by understandings of European socialism. The argument is threefold: that socialism was central to the ASC project, prompting efforts to define Asian socialism; that these efforts invariably raised the fraught question of Asian socialism's relationship with European socialism; and that the stakes involved in Rangoon were not limited to Asian socialism, but also involved socialism's potential as a global movement.",
     "accessed": {
      "day": 19,
      "month": 8,
      "year": 2021
     },
     "author": [
      {
       "family": "Imlay",
       "given": "Talbot Charles"
      }
     ],
     "container-title": "International Review of Social History",
     "id": "7162598/A9X67BLL",
     "issued": {
      "year": 2021
     },
     "language": "en",
     "note": "Publisher: Cambridge University Press",
     "page": "1-27",
     "page-first": "1",
     "shortTitle": "Defining Asian Socialism",
     "title": "Defining Asian Socialism: The Asian Socialist Conference, Asian Socialists, and the Limits of a Global Socialist Movement in 1953",
     "title-short": "Defining Asian Socialism",
     "type": "article-journal"
    },
    "7162598/AMLXJIUD": {
     "DOI": "10.1111/1468-2281.12210",
     "URL": "http://doi.wiley.com/10.1111/1468-2281.12210",
     "abstract": "Between 1948 and 1950 Comisco, the provisional Socialist International, and the British foreign office intervened in Italian politics to help the social democrats form a united party. The British Labour party came into conflict with the foreign office and the Dutch Labour party, as they disagreed over which Italian faction to support. The episode revealed the difference between the two parties’ political cultures and strategic choices, particularly on the issue of coalition government with centrist parties. The narrative of the intervention is followed by an appraisal of its success, the obstacles which limited it, and its short- and long-term effects.",
     "accessed": {
      "day": 19,
      "month": 9,
      "year": 2019
     },
     "author": [
      {
       "family": "Costa",
       "given": "Ettore"
      }
     ],
     "container-title": "Historical Research",
     "container-title-short": "Hist Res",
     "id": "7162598/AMLXJIUD",
     "issue": "251",
     "issued": {
      "year": 2018
     },
     "journalAbbreviation": "Hist Res",
     "language": "en",
     "page": "160-184",
     "page-first": "160",
     "shortTitle": "The Socialist International and Italian social democracy (1948-50)",
     "title": "The Socialist International and Italian social democracy (1948-50): cultural differences and the ‘internationalisation of domestic quarrels’: The Socialist International and Italian social democracy (1948-50)",
     "title-short": "The Socialist International and Italian social democracy (1948-50)",
     "type": "article-journal",
     "volume": "91"
    },
    "7162598/CPNQAM9H": {
     "ISBN": "978-1-78076-761-1 978-1-84885-297-6 978-0-85771-530-2",
     "author": [
      {
       "family": "Sassoon",
       "given": "Donald"
      }
     ],
     "event-place": "London",
     "id": "7162598/CPNQAM9H",
     "issued": {
      "year": 2014
     },
     "language": "English",
     "note": "OCLC: 855200304",
     "publisher": "I.B. Tauris",
     "publisher-place": "London",
     "shortTitle": "One Hundred Years of Socialism",
     "title": "One Hundred Years of Socialism: the West European Left in the Twentieth Century",
     "title-short": "One Hundred Years of Socialism",
     "type": "book"
    },
    "7162598/D82JKYSW": {
     "ISBN": "978-1-78168-333-0 978-1-78168-481-8",
     "abstract": "How does a literary historian end up thinking in terms of z-scores, principal component analysis, and clustering coefficients' The essays in Distant Reading led to a new and often contested paradigm of literary analysis. In presenting them here Franco Moretti reconstructs his intellectual trajectory, the theoretical influences over his work, and explores the polemics that have often developed around his positions. From the evolutionary model of \"Modern European Literature,\" through the geo-cultural insights of \"Conjectures of World Literature\" and \"Planet Hollywood,\" to the quantitative findings of \"Style, inc.\" and the abstract patterns of \"Network Theory, Plot Analysis,\" the book follows two decades of conceptual development, organizing them around the metaphor of \"distant reading,\" that has come to define'well beyond the wildest expectations of its author'a growing field of unorthodox literary studies.",
     "author": [
      {
       "family": "Moretti",
       "given": "Franco"
      }
     ],
     "event-place": "London",
     "id": "7162598/D82JKYSW",
     "issued": {
      "year": 2013
     },
     "language": "English",
     "note": "OCLC: 859846129",
     "publisher": "Verso",
     "publisher-place": "London",
     "title": "Distant reading",
     "type": "book"
    },
    "7162598/F6U8I9WM": {
     "DOI": "10.1080/01916599.2019.1703858",
     "URL": "https://doi.org/10.1080/01916599.2019.1703858",
     "abstract": "This article discusses the connection between Western socialist parties and technological development during the 1950s. The cases of the British Labour Party (LP), the German Social Democracy (SPD), and the Italian Socialist Party (PSI) let us to examine socialist perspectives in managing technological progress and in conceiving programmes and purposes on scientific research. This choice allows to understand two different aspects: on the one hand, the new pragmatism of socialist and social democratic parties, which was a typical trait of Postwar's socialist revisionism; on the other hand, the predominance assumed by domestic affairs in socialists’ vision, instead international topics. A very specific choice concerns the article's main focus. A large historiographical dispute has started to trace about Postwar Social Democracy's revisionism. Given such historiographical debate, this article firstly explores the behaviour and politics of the LP, the SPD, and the PSI about the the so-called modernization, a process which concerned the entire Postwar Europe. It also discusses programmes or ideas circulations about the 1950s ‘technological revolution’ and the agendas settled by socialist and social democratic parties to govern such global phenomena.",
     "accessed": {
      "day": 18,
      "month": 8,
      "year": 2021
     },
     "author": [
      {
       "family": "Perazzoli",
       "given": "Jacopo"
      }
     ],
     "container-title": "History of European Ideas",
     "id": "7162598/F6U8I9WM",
     "issue": "1",
     "issued": {
      "day": 2,
      "month": 1,
      "year": 2020
     },
     "note": "Publisher: Routledge\n_eprint: https://doi.org/10.1080/01916599.2019.1703858",
     "page": "79-94",
     "page-first": "79",
     "title": "‘No automation must be achieved without improving living standards’. The British Labour Party, the Italian Socialist Party and the German Social Democratic Party during the postwar technological revolution",
     "type": "article-journal",
     "volume": "46"
    },
    "7162598/G7VPPJUD": {
     "ISBN": "978-3-319-03163-7 978-3-319-03164-4",
     "URL": "http://link.springer.com/10.1007/978-3-319-03164-4",
     "accessed": {
      "day": 6,
      "month": 9,
      "year": 2021
     },
     "author": [
      {
       "family": "Jockers",
       "given": "Matthew L."
      }
     ],
     "collection-title": "Quantitative Methods in the Humanities and Social Sciences",
     "event-place": "Cham",
     "id": "7162598/G7VPPJUD",
     "issued": {
      "year": 2014
     },
     "note": "DOI: 10.1007/978-3-319-03164-4",
     "publisher": "Springer International Publishing",
     "publisher-place": "Cham",
     "title": "Text Analysis with R for Students of Literature",
     "type": "book"
    },
    "7162598/H2F8Z4HQ": {
     "ISBN": "978-3-319-77346-9",
     "abstract": "This book describes how, after the Second World War, the Labour Party assumed leadership of the International Socialist Movement, thanks to the achievements of the Attlee Government. International Secretary Denis Healey guided the reconstruction of the Socialist International through the early Cold War, making the British vision for socialist internationalism prevail over the French and Belgian. At first, the provisional Socialist International (International Socialist Conference and Comisco) supported cohabitation with pro-communist socialists and the USSR, but with the Sovietisation of Eastern Europe it committed to militant anti-communism. Ambiguity between the Labour Party and Labour Government influenced British policy in Austria, Czechoslovakia, Greece, Italy and Poland, while the characterization and stereotypes of Eastern and Southern Europe shaped the language and actions of the British. Furthermore, the book shows how international contacts and the British and Swedish model encouraged the transition of socialist parties to responsible government parties fully embracing Western democracy and prepared the ideological revision of the 1950s.",
     "accessed": {
      "day": 11,
      "month": 6,
      "year": 2021
     },
     "author": [
      {
       "family": "Costa",
       "given": "Ettore"
      }
     ],
     "event-place": "Cham",
     "id": "7162598/H2F8Z4HQ",
     "issued": {
      "year": 2018
     },
     "language": "en",
     "number-of-pages": "333",
     "publisher": "Palgrave Macmillan",
     "publisher-place": "Cham",
     "shortTitle": "Labour Party, Healey, International Socialist",
     "title": "The Labour Party, Denis Healey and the International Socialist Movement: Rebuilding the Socialist International during the Cold War, 1945–1951",
     "title-short": "Labour Party, Healey, International Socialist",
     "type": "book"
    },
    "7162598/HTWNNPYJ": {
     "ISBN": "978-94-6166-109-8",
     "abstract": "A world of difference separates global politics in 1945 from 1965. In the twenty years after the second world war, a 'Third World' was added to the Cold War concepts of the 'First' and 'Second' worlds, and post-war decolonization had ushered in an 'era of development'. For the first time ever, theories and policies to eradicate underdevelopment became prominent on the global agenda and advanced to the top priority on the United Nations' agenda. This international evolution inevitably had a dramatic impact on Socialism and Christian Democracy, two major ideologies which had their roots in Western Europe. Both became part of the global political dialogues taking place beyond Europe's borders. The result was a fascinating clash of Western and non-Western belief systems. But was it only that? Or were these political ideologies being used as vehicles for promoting national interests? Was the expansion of both ideologies beyond Europe driven, or even manipulated by realpolitical considerations or can ideologies truly wield autonomous international momentum capable of influencing global politics on their own? And how successful were these ideologies in expanding beyond their European home base? These are questions that seem more relevant to explore today than ever before. Bron: Flaptekst, uitgeversinformatie.",
     "author": [
      {
       "family": "Van Kemseke",
       "given": "Peter"
      }
     ],
     "event-place": "Leuven",
     "id": "7162598/HTWNNPYJ",
     "issued": {
      "year": 2017
     },
     "language": "English",
     "note": "OCLC: 1021283543",
     "publisher": "Leuven University Press",
     "publisher-place": "Leuven",
     "shortTitle": "Towards an era of development",
     "title": "Towards an era of development: the globalization of socialism and Christian democracy, 1945-1965",
     "title-short": "Towards an era of development",
     "type": "book"
    },
    "7162598/I2RSSEXX": {
     "ISBN": "978-1-78694-829-8",
     "abstract": "In 1958, Britain and Denmark both advocated closer European cooperation through the looser framework of the Free Trade Area (FTA) rather than membership of the nascent European Economic Community (EEC). By 1972, however, the situation had changed drastically. The FTA was a long-forgotten concept. Its replacement, the European Free Trade Association (EFTA), seemed economically and politically inept. Now, at the third time of asking, both countries were on the verge of joining the EEC as full members. This compelling analysis compares how the European policies of the British Labour Party and the Danish Social Democrats evolved amid this environment. Based on material from 12 archives in four countries, it updates our knowledge of key moments in both parties' interaction with the integration story, including in the formative stages of the EEC in 1958¬-60 and the negotiations for British and Danish EEC membership in 1961-63, 1967 and 1970-72. More innovatively, this book argues that amid an array of national and international constraints the reciprocal influence exerted by Labour and the SD on each other via informal party contacts was itself a crucial determinant in European policymaking. In so doing, it sheds light on the sources of Labour European thinking, the role of small states like Denmark in the integration process, and the prominence of the Anglo-Scandinavian nexus in the broader narrative of British foreign policy in this period",
     "author": [
      {
       "family": "Broad",
       "given": "Matthew"
      }
     ],
     "call-number": "324.240 09",
     "collection-number": "10",
     "collection-title": "Studies in labour history",
     "edition": "1st. ed",
     "event-place": "Liverpool (GB)",
     "id": "7162598/I2RSSEXX",
     "issued": {
      "year": 2017
     },
     "language": "eng",
     "publisher": "Liverpool University Press",
     "publisher-place": "Liverpool (GB)",
     "title": "Harold Wilson, Denmark and the making of Labour European policy",
     "type": "book"
    },
    "7162598/ITETKBSG": {
     "DOI": "10.1080/19312458.2018.1430754",
     "URL": "https://www.tandfonline.com/doi/full/10.1080/19312458.2018.1430754",
     "accessed": {
      "day": 17,
      "month": 8,
      "year": 2021
     },
     "author": [
      {
       "family": "Maier",
       "given": "Daniel"
      },
      {
       "family": "Waldherr",
       "given": "A."
      },
      {
       "family": "Miltner",
       "given": "P."
      },
      {
       "family": "Wiedemann",
       "given": "G."
      },
      {
       "family": "Niekler",
       "given": "A."
      },
      {
       "family": "Keinert",
       "given": "A."
      },
      {
       "family": "Pfetsch",
       "given": "B."
      },
      {
       "family": "Heyer",
       "given": "G."
      },
      {
       "family": "Reber",
       "given": "U."
      },
      {
       "family": "Häussler",
       "given": "T."
      },
      {
       "family": "Schmid-Petri",
       "given": "H."
      },
      {
       "family": "Adam",
       "given": "S."
      }
     ],
     "container-title": "Communication Methods and Measures",
     "container-title-short": "Communication Methods and Measures",
     "id": "7162598/ITETKBSG",
     "issue": "2-3",
     "issued": {
      "day": 3,
      "month": 4,
      "year": 2018
     },
     "journalAbbreviation": "Communication Methods and Measures",
     "language": "en",
     "page": "93-118",
     "page-first": "93",
     "shortTitle": "Applying LDA Topic Modeling in Communication Research",
     "title": "Applying LDA Topic Modeling in Communication Research: Toward a Valid and Reliable Methodology",
     "title-short": "Applying LDA Topic Modeling in Communication Research",
     "type": "article-journal",
     "volume": "12"
    },
    "7162598/JCJUU29Q": {
     "ISBN": "978-2-7246-0621-8",
     "author": [
      {
       "family": "Devin",
       "given": "Guillaume"
      }
     ],
     "call-number": "Tolbiac - Rez de Jardin - Philosophie, histoire, sciences de l'homme - Magasin - 8-R-107542",
     "event-place": "Paris",
     "id": "7162598/JCJUU29Q",
     "issued": {
      "year": 1993
     },
     "language": "fre",
     "note": "Country: FR\n22 cm. Bibliogr. p. 419-425. Index.",
     "number-of-pages": "437",
     "publisher": "Presses de la Fondation nationale des sciences politiques",
     "publisher-place": "Paris",
     "shortTitle": "L'Internationale socialiste",
     "title": "L'Internationale socialiste :  histoire et sociologie du socialisme international, 1945-1990",
     "title-short": "L'Internationale socialiste",
     "type": "book"
    },
    "7162598/JZCLYLHW": {
     "editor": [
      {
       "family": "Braunthal",
       "given": "Julius"
      }
     ],
     "event-place": "Hannover",
     "id": "7162598/JZCLYLHW",
     "issued": {
      "year": 1958
     },
     "publisher": "J.H.W. Dietz",
     "publisher-place": "Hannover",
     "shortTitle": "Sozialistische Weltstimmen",
     "title": "Sozialistische Weltstimmen",
     "title-short": "Sozialistische Weltstimmen",
     "type": "book"
    },
    "7162598/MANW3KY8": {
     "DOI": "10.1145/2133806.2133826",
     "URL": "https://dl.acm.org/doi/10.1145/2133806.2133826",
     "abstract": "Surveying a suite of algorithms that offer a solution to managing large document archives.",
     "accessed": {
      "day": 25,
      "month": 8,
      "year": 2021
     },
     "author": [
      {
       "family": "Blei",
       "given": "David M."
      }
     ],
     "container-title": "Communications of the ACM",
     "container-title-short": "Commun. ACM",
     "id": "7162598/MANW3KY8",
     "issue": "4",
     "issued": {
      "year": 2012
     },
     "journalAbbreviation": "Commun. ACM",
     "language": "en",
     "page": "77-84",
     "page-first": "77",
     "title": "Probabilistic topic models",
     "type": "article-journal",
     "volume": "55"
    },
    "7162598/MXU35R7X": {
     "URL": "http://www.jstor.org/stable/26783835",
     "abstract": "This study is an attempt to introduce topic modeling as a method for discourse analysis in order to explore new possibilities for discourse analysis. Human language data, which is used for discourse analysis, holds plenty of information, however, traditional research methods on language data have several limitations. Topic modeling, which is a statistical analysis method applied to language data, is suitable for a discourse analysis for three reasons: (1) The “topic” extracted via topic modeling contains useful information for inferring discourse. The information shows the key functions of the particular discourse. (2) Topic modeling’s multiple topic assumption makes it possible to examine the dynamics of discourses. (3) Recent topic modeling techniques allow researchers to study changes in discourse over time as well as interactions between discourse and non-discursive factors. Although topic modeling methods have limitations, the shortcomings can be complemented and remedied. Furthermore, text mining, including topic modeling, is not limited to discourse analysis and can be applied to the study of various variables and concepts in social science. The social sciences must make an effort to better understand and best utilize these new methods.",
     "accessed": {
      "day": 24,
      "month": 8,
      "year": 2021
     },
     "author": [
      {
       "family": "Jo",
       "given": "Wonkwang"
      }
     ],
     "container-title": "Journal of Asian Sociology",
     "id": "7162598/MXU35R7X",
     "issue": "3",
     "issued": {
      "year": 2019
     },
     "note": "Publisher: Institute for Social Development and Policy Research (ISDPR)",
     "page": "321-342",
     "page-first": "321",
     "title": "Possibility of Discourse Analysis using Topic Modeling",
     "type": "article-journal",
     "volume": "48"
    },
    "7162598/MYBYUJWP": {
     "ISBN": "978-1-137-55119-1",
     "URL": "https://www.palgrave.com/gp/book/9781137551191",
     "abstract": "Transnational Socialist Networks in the 1970s argues that western European socialist parties' transnational cooperation across national borders significantly influenced politics and policy-making in what was the European Communities (EC). It focuses on the network-like informal structures that characterised transnational cooperation between the party members and leaders of different socialist parties involved in European affairs. Taking the example of two case studies, namely EC development aid policy and EC southern enlargement policy, the book demonstrates that the socialist parties strengthened their informal transnational network structures for the purposes of debating ideological and programmatic issues and finding policy solutions to common challenges in both policy fields. Moreover, it shows that the networks developed various functions to influence European governance. Against this background, the analysis in this book makes not only a significant contribution to the study of transnational networks of western European socialist parties and the history of European integration, but also adds to the understanding of the role of transnational networks in European politics and policy-making.",
     "accessed": {
      "day": 18,
      "month": 8,
      "year": 2021
     },
     "author": [
      {
       "family": "Salm",
       "given": "Christian"
      }
     ],
     "collection-title": "Palgrave Studies in the History of Social Movements",
     "id": "7162598/MYBYUJWP",
     "issued": {
      "year": 2016
     },
     "language": "en",
     "note": "DOI: 10.1057/9781137551207",
     "publisher": "Palgrave Macmillan UK",
     "shortTitle": "Transnational Socialist Networks in the 1970s",
     "title": "Transnational Socialist Networks in the 1970s: European Community Development Aid and Southern Enlargement",
     "title-short": "Transnational Socialist Networks in the 1970s",
     "type": "book"
    },
    "7162598/N46J2RM7": {
     "ISBN": "978-0-7181-3114-2",
     "author": [
      {
       "family": "Healey",
       "given": "Denis"
      }
     ],
     "call-number": "DA591.H38 A3 1989",
     "event-place": "London",
     "id": "7162598/N46J2RM7",
     "issued": {
      "year": 1989
     },
     "number-of-pages": "606",
     "publisher": "M. Joseph",
     "publisher-place": "London",
     "title": "The time of my life",
     "type": "book"
    },
    "7162598/NCE8EWRH": {
     "DOI": "10.1111/1468-2281.12011",
     "URL": "https://academic.oup.com/histres/article/86/232/313-341/5603529",
     "accessed": {
      "day": 12,
      "month": 6,
      "year": 2021
     },
     "author": [
      {
       "family": "Blaxill",
       "given": "Luke"
      }
     ],
     "container-title": "Historical Research",
     "container-title-short": "Hist Res",
     "id": "7162598/NCE8EWRH",
     "issue": "232",
     "issued": {
      "year": 2013
     },
     "journalAbbreviation": "Hist Res",
     "language": "en",
     "page": "313-341",
     "page-first": "313",
     "shortTitle": "Quantifying the language of British politics, 1880-1910",
     "title": "Quantifying the language of British politics, 1880-1910: Quantifying the language of British politics, 1880-1910",
     "title-short": "Quantifying the language of British politics, 1880-1910",
     "type": "article-journal",
     "volume": "86"
    },
    "7162598/NPUN48ES": {
     "author": [
      {
       "family": "Lawrence",
       "given": "Jon"
      }
     ],
     "container-title": "Writing History: Theory and Practice",
     "editor": [
      {
       "family": "Berger",
       "given": "Stefan"
      },
      {
       "family": "Feldner",
       "given": "Heiko"
      },
      {
       "family": "Passmore",
       "given": "Kevin"
      }
     ],
     "event-place": "London",
     "id": "7162598/NPUN48ES",
     "issued": {
      "year": 2003
     },
     "publisher": "Hodder Arnold",
     "publisher-place": "London",
     "title": "Political History",
     "type": "chapter"
    },
    "7162598/PXZ593JP": {
     "URL": "https://www.jmlr.org/papers/v3/blei03a",
     "abstract": "We describe latent Dirichlet allocation (LDA), a generative\n  probabilistic model for collections of discrete data such as text\n  corpora.  LDA is a three-level hierarchical Bayesian model, in which\n  each item of a collection is modeled as a finite mixture over an\n  underlying set of topics.  Each topic is, in turn, modeled as an\n  infinite mixture over an underlying set of topic probabilities.  In\n  the context of text modeling, the topic probabilities provide an\n  explicit representation of a document.  We present efficient\n  approximate inference techniques based on variational methods and an\n  EM algorithm for empirical Bayes parameter estimation.  We report\n  results in document modeling, text classification, and collaborative\n  filtering, comparing to a mixture of unigrams model and the\n  probabilistic LSI model.",
     "accessed": {
      "day": 25,
      "month": 8,
      "year": 2021
     },
     "author": [
      {
       "family": "Blei",
       "given": "David M."
      },
      {
       "family": "Ng",
       "given": "Andrew Y."
      },
      {
       "family": "Jordan",
       "given": "Michael I."
      }
     ],
     "container-title": "Journal of Machine Learning Research",
     "id": "7162598/PXZ593JP",
     "issue": "Jan",
     "issued": {
      "year": 2003
     },
     "page": "993-1022",
     "page-first": "993",
     "title": "Latent Dirichlet Allocation",
     "type": "article-journal",
     "volume": "3"
    },
    "7162598/QU2SLHVD": {
     "author": [
      {
       "family": "Griffiths",
       "given": "Richard T."
      }
     ],
     "container-title": "Socialist Parties and the Question of Europe in the 1950’s",
     "editor": [
      {
       "family": "Griffiths",
       "given": "Richard T."
      }
     ],
     "event-place": "Leiden",
     "id": "7162598/QU2SLHVD",
     "issued": {
      "year": 1993
     },
     "page": "9-24",
     "page-first": "9",
     "publisher": "Brill",
     "publisher-place": "Leiden",
     "title": "European Utopia or Capitalist Trap? The Socialist International and the Question of Europe",
     "type": "chapter"
    },
    "7162598/RCPW6JTA": {
     "ISBN": "978-88-98490-39-4",
     "author": [
      {
       "family": "Perazzoli",
       "given": "Jacopo"
      }
     ],
     "call-number": "HX236.5 .P47 2016",
     "event-place": "Milano",
     "id": "7162598/RCPW6JTA",
     "issued": {
      "year": 2016
     },
     "number-of-pages": "246",
     "publisher": "Biblion edizioni",
     "publisher-place": "Milano",
     "shortTitle": "Qualcosa di nuovo",
     "title": "\"Qualcosa di nuovo da noi s'attende\": la socialdemocrazia europea e il revisionismo degli anni Cinquanta",
     "title-short": "Qualcosa di nuovo",
     "type": "book"
    },
    "7162598/RFAWV8X5": {
     "author": [
      {
       "family": "Healey",
       "given": "Denis"
      }
     ],
     "container-title": "Tribune",
     "id": "7162598/RFAWV8X5",
     "issued": {
      "day": 15,
      "month": 2,
      "year": 1946
     },
     "title": "The Workers’ Internationals",
     "type": "article-magazine"
    },
    "7162598/RKHE7VJX": {
     "author": [
      {
       "family": "Costa",
       "given": "Ettore"
      }
     ],
     "container-title": "Journal of Cold War History",
     "issue": "1",
     "issued": {
      "date-parts": [
       [
        "2022"
       ]
      ],
      "season": "Winter"
     },
     "title": "Socialist World from Balancing East and West to Militant Anti-Communism: Reading the Beginning of the Cold War in the Journal of the Socialist International (1947–1949)",
     "type": "article-journal",
     "volume": "24"
    },
    "7162598/RSPXTAQ7": {
     "DOI": "10.1093/pan/mps028",
     "URL": "https://www.cambridge.org/core/product/identifier/S1047198700013401/type/journal_article",
     "abstract": "Politics and political conflict often occur in the written and spoken word. Scholars have long recognized this, but the massive costs of analyzing even moderately sized collections of texts have hindered their use in political science research. Here lies the promise of automated text analysis: it substantially reduces the costs of analyzing large collections of text. We provide a guide to this exciting new area of research and show how, in many instances, the methods have already obtained part of their promise. But there are pitfalls to using automated methods—they are no substitute for careful thought and close reading and require extensive and problem-specific validation. We survey a wide range of new methods, provide guidance on how to validate the output of the models, and clarify misconceptions and errors in the literature. To conclude, we argue that for automated text methods to become a standard tool for political scientists, methodologists must contribute new methods and new methods of validation.",
     "accessed": {
      "day": 21,
      "month": 8,
      "year": 2021
     },
     "author": [
      {
       "family": "Grimmer",
       "given": "Justin"
      },
      {
       "family": "Stewart",
       "given": "Brandon M."
      }
     ],
     "container-title": "Political Analysis",
     "container-title-short": "Polit. anal.",
     "id": "7162598/RSPXTAQ7",
     "issue": "3",
     "issued": {
      "year": 2013
     },
     "journalAbbreviation": "Polit. anal.",
     "language": "en",
     "page": "267-297",
     "page-first": "267",
     "shortTitle": "Text as Data",
     "title": "Text as Data: The Promise and Pitfalls of Automatic Content Analysis Methods for Political Texts",
     "title-short": "Text as Data",
     "type": "article-journal",
     "volume": "21"
    },
    "7162598/T74IV2PP": {
     "URL": "https://humanit.hb.se/article/view/597",
     "abstract": "With the amount textual data available to researchers rapidly increasing, the Humanities and Social Sciences stand before new challenges in dealing with these large quantities of texts. For several decades Digital Humanities have offered a multitude of tools for computer-assisted or –driven research. This article will explore how distant reading approaches in general and topic modeling in particular can be utilized in discourse analysis. It will present theories and methods that work well together and can be applied to different research projects. In this context, the article will present a combination of Structural Topic Modeling, developed by Roberts, Stewart and Tingley and the Critical Discourse Analysis approach by Siegfried Jäger.",
     "accessed": {
      "day": 21,
      "month": 8,
      "year": 2021
     },
     "author": [
      {
       "family": "Brinkmann",
       "given": "Fabian"
      }
     ],
     "container-title": "Human IT: Journal for Information Technology Studies as a Human Science",
     "id": "7162598/T74IV2PP",
     "issue": "3",
     "issued": {
      "day": 20,
      "month": 12,
      "year": 2019
     },
     "language": "en",
     "note": "Number: 3",
     "page": "83-114",
     "page-first": "83",
     "shortTitle": "Topical Discourse Structures",
     "title": "Topical Discourse Structures: Using topic modeling in discourse analysis approaches",
     "title-short": "Topical Discourse Structures",
     "type": "article-journal",
     "volume": "14"
    },
    "7162598/TE8WR4XE": {
     "ISBN": "978-952-369-020-2",
     "URL": "https://hup.fi/site/chapters/e/10.33134/HUP-5-4/",
     "abstract": "This chapter analyses the impact of digital technology on historical research by identifying some of the critical methodological strands of the new computational digital history using Thomas Kuhn’s research on scientific revolutions. Digital methodologies have been described as posing a potential paradigm shift for historical research. Following Kuhn, the chapter describes the two ideal type responses within history to the challenges of the new computational digital history, where the disruptive digital methodologies are either being domesticated into traditional ‘normal science’ history as ‘digital history 1.0’, or a second revolutionary route where historical practice is radically disciplined into a paradigmatic ‘digital history 2.0’. As an alternative methodological middle way the study outlines ‘digital history 1.5’. This description combines a summary of digital practices already appropriated by most historical researchers with some of the new digital history’s central methodological elements as well as propose conceptualizations of emerging new mixed digital history practices such as search methodologies, digital source and resource criticisms.",
     "accessed": {
      "day": 24,
      "month": 8,
      "year": 2021
     },
     "author": [
      {
       "family": "Fridlund",
       "given": "Mats"
      }
     ],
     "container-title": "Digital Histories: Emergent Approaches within the New Digital History",
     "editor": [
      {
       "family": "Fridlund",
       "given": "Mats"
      },
      {
       "family": "Oiva",
       "given": "Mila"
      },
      {
       "family": "Paju",
       "given": "Petri"
      }
     ],
     "id": "7162598/TE8WR4XE",
     "issued": {
      "day": 7,
      "month": 12,
      "year": 2020
     },
     "note": "DOI: 10.33134/HUP-5-4",
     "page": "69-87",
     "page-first": "69",
     "publisher": "Helsinki University Press",
     "shortTitle": "Digital History 1.5",
     "title": "Digital History 1.5: A Middle Way between Normal and Paradigmatic Digital Historical Research",
     "title-short": "Digital History 1.5",
     "type": "chapter"
    },
    "7162598/VQHVDUA5": {
     "URL": "http://www.jstor.org/stable/40865697",
     "abstract": "Recent claims about the convergence in methodology between 'high politics' and the 'new political history' remain unclear. The first part of this review examines two deeply entrenched misunderstandings of key works, of high politicsfrom the 1960s and 1970s, namely that they proposed elitist arguments about the 'closed' nature of the political world, and reductive arguments about the irrelevance of 'ideas' to political behaviour. The second part traces the intellectual ancestry ofMaunce Cowling's thinking about politics, and places it within an interpretative tradition of social science. The formative influences of R. G. Collingwood and Michael Oakeshott are examined, and Mark Bevir's Logic of the history of ideas is used to highlight how Cowling's approach can be aligned with 'new political history'.",
     "accessed": {
      "day": 24,
      "month": 8,
      "year": 2021
     },
     "author": [
      {
       "family": "Craig",
       "given": "David M."
      }
     ],
     "container-title": "The Historical Journal",
     "id": "7162598/VQHVDUA5",
     "issue": "2",
     "issued": {
      "year": 2010
     },
     "note": "Publisher: Cambridge University Press",
     "page": "453-475",
     "page-first": "453",
     "title": "'High Politics' and the 'New Political History'",
     "type": "article-journal",
     "volume": "53"
    },
    "7162598/XLV3LF4W": {
     "ISBN": "978-0-511-62215-1 978-0-521-25648-3 978-0-521-27631-3",
     "abstract": "This collection of essays by Gareth Stedman Jones proposes a different way of seeing both historians' analytical conceptions of 'class', and the actual manifestation of class in the history of English politics and English culture since the 1830s. As the progenitor of the first generally acknowledged working-class movement, the English working class provided the initial empirical basis for not only the original Marxist theory of modern industry and proletarian revolution, but also subsequent historians' reactions against, or adaptations of, the Marxist theory of class. In Languages of Class Gareth Stedman Jones draws a distinction between two conceptions of class: the everyday and commonplace perception of its pervasiveness in England, and the Marxist idea of its revolutionary significance. He proceeds to challenge the predominant conceptions of the meaning and development of 'class consciousness' by stressing the political and discursive conditions in which particular languages appeared and receded. Among the themes of individual essays in the book are a rethinking of 'the making of the English working class' and the phenomenon of Chartism, a novel exploration of the formation and components of 'working-class culture', and, in the light of these, a new approach to understanding the history of the Labour Party.",
     "accessed": {
      "day": 14,
      "month": 8,
      "year": 2021
     },
     "author": [
      {
       "family": "Stedman Jones",
       "given": "Gareth"
      }
     ],
     "event-place": "Cambridge",
     "id": "7162598/XLV3LF4W",
     "issued": {
      "year": 1984
     },
     "language": "English",
     "note": "OCLC: 697474456",
     "publisher": "Cambridge University Press",
     "publisher-place": "Cambridge",
     "shortTitle": "Languages of class",
     "title": "Languages of class: studies in English working class history, 1832-1982",
     "title-short": "Languages of class",
     "type": "book"
    },
    "7162598/ZD6WR6LT": {
     "author": [
      {
       "family": "Rose",
       "given": "Saul"
      }
     ],
     "event-place": "London",
     "id": "7162598/ZD6WR6LT",
     "issued": {
      "year": 1955
     },
     "number-of-pages": "22",
     "publisher": "Labour Party",
     "publisher-place": "London",
     "shortTitle": "Socialist International",
     "title": "The Socialist International",
     "title-short": "Socialist International",
     "type": "book"
    },
    "undefined": {
     "ISBN": "978-3-319-77346-9",
     "abstract": "This book describes how, after the Second World War, the Labour Party assumed leadership of the International Socialist Movement, thanks to the achievements of the Attlee Government. International Secretary Denis Healey guided the reconstruction of the Socialist International through the early Cold War, making the British vision for socialist internationalism prevail over the French and Belgian. At first, the provisional Socialist International (International Socialist Conference and Comisco) supported cohabitation with pro-communist socialists and the USSR, but with the Sovietisation of Eastern Europe it committed to militant anti-communism. Ambiguity between the Labour Party and Labour Government influenced British policy in Austria, Czechoslovakia, Greece, Italy and Poland, while the characterization and stereotypes of Eastern and Southern Europe shaped the language and actions of the British. Furthermore, the book shows how international contacts and the British and Swedish model encouraged the transition of socialist parties to responsible government parties fully embracing Western democracy and prepared the ideological revision of the 1950s.",
     "accessed": {
      "day": 11,
      "month": 6,
      "year": 2021
     },
     "author": [
      {
       "family": "Costa",
       "given": "Ettore"
      }
     ],
     "event-place": "Cham",
     "id": "undefined",
     "issued": {
      "year": 2018
     },
     "language": "en",
     "number-of-pages": "333",
     "publisher": "Palgrave Macmillan",
     "publisher-place": "Cham",
     "shortTitle": "Labour Party, Healey, International Socialist",
     "title": "The Labour Party, Denis Healey and the International Socialist Movement: Rebuilding the Socialist International during the Cold War, 1945–1951",
     "title-short": "Labour Party, Healey, International Socialist",
     "type": "book"
    }
   }
  },
  "kernelspec": {
   "display_name": "R",
   "language": "R",
   "name": "ir"
  },
  "toc": {
   "base_numbering": 1,
   "nav_menu": {},
   "number_sections": true,
   "sideBar": true,
   "skip_h1_title": true,
   "title_cell": "Table of Contents",
   "title_sidebar": "Contents",
   "toc_cell": false,
   "toc_position": {},
   "toc_section_display": true,
   "toc_window_display": true
  },
  "toc-autonumbering": false,
  "toc-showcode": false,
  "varInspector": {
   "cols": {
    "lenName": 16,
    "lenType": 16,
    "lenVar": 40
   },
   "kernels_config": {
    "python": {
     "delete_cmd_postfix": "",
     "delete_cmd_prefix": "del ",
     "library": "var_list.py",
     "varRefreshCmd": "print(var_dic_list())"
    },
    "r": {
     "delete_cmd_postfix": ") ",
     "delete_cmd_prefix": "rm(",
     "library": "var_list.r",
     "varRefreshCmd": "cat(var_dic_list()) "
    }
   },
   "types_to_exclude": [
    "module",
    "function",
    "builtin_function_or_method",
    "instance",
    "_Feature"
   ],
   "window_display": false
  }
 },
 "nbformat": 4,
 "nbformat_minor": 4
}
